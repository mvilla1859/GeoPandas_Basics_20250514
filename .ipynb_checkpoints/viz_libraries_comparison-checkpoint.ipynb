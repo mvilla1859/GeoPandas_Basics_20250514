{
 "cells": [
  {
   "cell_type": "markdown",
   "id": "11bb6be6-f704-419e-9104-92f3c284afb0",
   "metadata": {},
   "source": [
    "# Visualization Libraries"
   ]
  },
  {
   "cell_type": "markdown",
   "id": "81946574-a446-44f9-8757-7c5c56513d19",
   "metadata": {},
   "source": [
    "| Library        | Type        | Interactivity | Best Use Case                      |\n",
    "| -------------- | ----------- | ------------- | ---------------------------------- |\n",
    "| **Matplotlib** | Static      | ❌ No          | Academic publishing, PDFs, reports |\n",
    "| **Folium**     | Interactive | ✅ Yes         | Public web maps, story maps        |\n",
    "| **Leafmap**    | Interactive | ✅ Yes         | Jupyter exploration, education     |\n",
    "| **Lombard**    | Interactive | ✅ Yes         | Large data rendering, vector tiles |\n"
   ]
  },
  {
   "cell_type": "code",
   "execution_count": null,
   "id": "7357c0cf-3794-48d4-85fc-9dc98b06c8f3",
   "metadata": {},
   "outputs": [],
   "source": [
    "import geopandas as gpd\n",
    "\n",
    "# Load datasets\n",
    "states_url = '../geopandas_101_DATA/us/cb_2022_us_state_500k.zip'\n",
    "plants_url = \"../geopandas_101_DATA/us/Power_Plants_in_the_US_5860152164617264051.geojson\"\n",
    "\n",
    "states = gpd.read_file(states_url)\n",
    "plants = gpd.read_file(plants_url)\n",
    "\n",
    "# Ensure same CRS for compatibility\n",
    "states = states.to_crs(\"EPSG:4326\")\n",
    "plants = plants.to_crs(states.crs)"
   ]
  },
  {
   "cell_type": "markdown",
   "id": "0cc301a8-a130-498d-a5d1-3eab09d16012",
   "metadata": {},
   "source": [
    "# 1️⃣ Matplotlib: Static Map\n",
    "✅ Use case: Best for static maps for publication, reports, or PDFs. Fast and customizable but not interactive."
   ]
  },
  {
   "cell_type": "code",
   "execution_count": null,
   "id": "87f8b818-2b72-4d84-b1d3-d358d9a968ab",
   "metadata": {},
   "outputs": [],
   "source": [
    "import matplotlib.pyplot as plt\n",
    "\n",
    "# Create a static map figure and axes\n",
    "fig, ax = plt.subplots(figsize=(12, 8))\n",
    "\n",
    "# Plot state boundaries with no fill, light gray borders\n",
    "states.boundary.plot(ax=ax, linewidth=0.8, edgecolor=\"gray\")\n",
    "\n",
    "# Plot power plants as red dots\n",
    "plants.plot(ax=ax, color=\"red\", markersize=5, alpha=0.7)\n",
    "\n",
    "# Set title and hide axes\n",
    "ax.set_title(\"Power Plants in US States - Matplotlib\")\n",
    "ax.axis(\"off\")\n",
    "plt.show()\n"
   ]
  },
  {
   "cell_type": "markdown",
   "id": "4fc090e5-aaa4-4adb-b4c1-5c7dc331909b",
   "metadata": {},
   "source": [
    "# 2️⃣ Folium: Interactive Web Map\n",
    "✅ Use case: Excellent for public-facing maps, lightweight sharing (HTML), and interactive exploration."
   ]
  },
  {
   "cell_type": "code",
   "execution_count": null,
   "id": "f468d9ed-d85f-4695-b356-cc77fd966a7b",
   "metadata": {},
   "outputs": [],
   "source": [
    "import folium\n",
    "from folium.plugins import MarkerCluster\n",
    "\n",
    "# Create a folium map centered on the U.S.\n",
    "m = folium.Map(location=[39.5, -98.5], zoom_start=4, tiles=\"CartoDB positron\")\n",
    "\n",
    "# Add clustering for power plants (reduces marker clutter)\n",
    "marker_cluster = MarkerCluster().add_to(m)\n",
    "\n",
    "# Loop through GeoDataFrame and add each plant as a marker\n",
    "for _, row in plants.iterrows():\n",
    "    folium.Marker(\n",
    "        location=[row.geometry.y, row.geometry.x],\n",
    "        popup=row.get(\"plant_name\", \"Power Plant\")  # Optional: Show name on click\n",
    "    ).add_to(marker_cluster)\n",
    "\n",
    "# Save the result to a local HTML file\n",
    "m.save(\"folium_map.html\")\n",
    "m"
   ]
  },
  {
   "cell_type": "markdown",
   "id": "055e8c22-d4e4-4a0a-b8ef-798e30617278",
   "metadata": {},
   "source": [
    "# 3️⃣ Leafmap: Widget-based Exploration\n",
    "✅ Use case: Easy for users familiar with Jupyter. Provides toggleable layers, basemaps, and more styling flexibility."
   ]
  },
  {
   "cell_type": "code",
   "execution_count": null,
   "id": "bb0ff9df-bf55-480c-97a5-1ae23979f8c0",
   "metadata": {
    "scrolled": true
   },
   "outputs": [],
   "source": [
    "import leafmap\n",
    "\n",
    "# Create a Leafmap viewer object\n",
    "leafmap_map = leafmap.Map()\n",
    "\n",
    "# Add both GeoDataFrames as separate layers\n",
    "leafmap_map.add_gdf(states, layer_name=\"States\")\n",
    "leafmap_map.add_gdf(plants, layer_name=\"Power Plants\")\n",
    "# leafmap_map.add_gdf(plants[plants['Total_MW']>1000], layer_name=\"Power Plants\")\n",
    "\n",
    "# Export as interactive HTML\n",
    "leafmap_map.to_html(\"leafmap_map.html\")\n",
    "leafmap_map"
   ]
  },
  {
   "cell_type": "markdown",
   "id": "b23f2c26-d65c-4d35-a176-6af7a1d4c589",
   "metadata": {},
   "source": [
    "# 4️⃣ Lombard: Symbolic Mapping\n",
    "✅ Use case: Ideal when you want to show custom point symbols (like PNGs) on interactive maps. Great for dashboards or categorical displays."
   ]
  },
  {
   "cell_type": "code",
   "execution_count": null,
   "id": "123885ce-d6f1-4330-b22d-b6aae88ce23c",
   "metadata": {},
   "outputs": [],
   "source": [
    "import lombard as lomb\n",
    "\n",
    "# Create an interactive map with Lombard\n",
    "lmap = lomb.Map()\n",
    "\n",
    "# Add polygons for U.S. states (styled with fill and borders)\n",
    "lmap.add_geojson(states, style={\n",
    "    \"fillColor\": \"#cccccc\",\n",
    "    \"color\": \"white\"\n",
    "})\n",
    "\n",
    "# Add points for power plants using default circle symbols\n",
    "lmap.add_geojson(plants, symbol={\n",
    "    \"shape\": \"circle\",\n",
    "    \"color\": \"crimson\",\n",
    "    \"size\": 6\n",
    "})\n",
    "\n",
    "# Display the map inline\n",
    "lmap.show()\n"
   ]
  },
  {
   "cell_type": "code",
   "execution_count": null,
   "id": "8d172e5a-1d1f-4758-b4c6-56321062e866",
   "metadata": {},
   "outputs": [],
   "source": []
  }
 ],
 "metadata": {
  "kernelspec": {
   "display_name": "Python 3 (ipykernel)",
   "language": "python",
   "name": "python3"
  },
  "language_info": {
   "codemirror_mode": {
    "name": "ipython",
    "version": 3
   },
   "file_extension": ".py",
   "mimetype": "text/x-python",
   "name": "python",
   "nbconvert_exporter": "python",
   "pygments_lexer": "ipython3",
   "version": "3.12.2"
  }
 },
 "nbformat": 4,
 "nbformat_minor": 5
}
