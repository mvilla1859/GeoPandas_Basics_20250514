{
 "cells": [
  {
   "cell_type": "markdown",
   "metadata": {},
   "source": [
    "# Spatial Operations in GeoPandas\n",
    "\n",
    "In this section of the tutorial, we delve into how to use GeoPandas to perform various spatial operations on geometries. These operations include:\n",
    "- calculating areas\n",
    "- checking for spatial relationships like intersection or containment\n",
    "- creating new geometries such as centroids, buffers, convex hulls, and more.\n",
    "\n",
    "The goal is to understand how to explore and analyze geographic data using the powerful tools provided by GeoPandas.\n",
    "\n",
    "We will use real-world datasets from New York City's open data portal. These include:\n",
    "\n",
    "* Locations of schools (as point data).\n",
    "* Subway entrances (also as points).\n",
    "* Bike paths (as line geometries).\n",
    "* Parks (as polygon geometries).\n",
    "\n",
    "These datasets will help us explore a variety of geometry types and spatial relationships.\n",
    "\n",
    "Once loaded, we visualize these datasets using the `.explore()` method, which provides an interactive map to verify and inspect spatial data. This helps ensure that our data looks as expected before performing any operations.\n",
    "\n",
    "A key preliminary step is setting the correct Coordinate Reference System (CRS). We use `.to_crs()` for this purpose. \n",
    "\n",
    "Many geospatial calculations such as distance or area depend on the CRS being appropriate for the unit of measurement. For example, the common EPSG:4326 uses degrees, but if we want accurate distance or area calculations in meters or feet, we switch to EPSG:3857 or EPSG:2263. \n",
    "\n",
    "The tutorial demonstrates how to calculate the area of each neighborhood by accessing the `.area` property of the geometry column. We store this as a new column in the GeoDataFrame.\n",
    "\n",
    "We then extract the boundary of each park using the `.boundary` property. This is useful when you only want to work with the outer edge of a polygon.\n",
    "\n",
    "Next, we calculate the lengths of bike paths, showcasing how projection affects measurements (e.g., meters vs feet). By changing the projection with `.to_crs()`, we see how GeoPandas returns different values because it uses the underlying CRS units.\n",
    "\n",
    "We also explore filtering specific features using attribute queries. For instance, we filter to a specific bike segment ID and visualize it. The tutorial emphasizes using the correct CRS when mapping or measuring to get consistent and interpretable results.\n",
    "\n",
    "Further analysis involves calculating distances. One example is calculating the shortest distance between schools and subway entrances. This is done using the `.distance()` method along with `.apply()` and a `lambda` function to find the minimum distance for each school.\n",
    "\n",
    "We also explore geometric operations like:\n",
    "\n",
    "* `.centroid`: Finding the centroid of a polygon.\n",
    "* `.buffer()`: Creating buffers around features (e.g., 10 meters around bike paths).\n",
    "* `.intersects()`: Checking whether geometries intersect.\n",
    "* `.contains()` and `.within()`: Checking containment relationships.\n",
    "* `.bounds`, `.convex_hull`, and `.envelope`: Calculating bounding rectangles, convex hulls, and other spatial summaries.\n",
    "* `.is_valid`: Checking geometry validity.\n",
    "* `.offset_curve`: Translating geometries (e.g., shifting subway entrance points).\n",
    "\n",
    "We apply these methods to answer spatial questions, such as:\n",
    "\n",
    "* Which parks intersect with bike paths?\n",
    "* Which neighborhoods contain parks entirely?\n",
    "* Which schools are within 500 meters of a subway entrance?\n",
    "* Which parks overlap with multiple neighborhoods?\n",
    "* Which features fall outside any neighborhood?\n",
    "\n",
    "Finally, the section highlights how GeoPandas supports powerful, low-code spatial analytics. Although this is not an exhaustive list of spatial functions, it provides a broad toolkit for working with geospatial data. For a full reference, the instructor recommends reviewing the GeoPandas documentation.\n",
    "\n",
    "Now that we've covered core geometry operations, we are well-equipped to move forward with more advanced spatial joins and analytical workflows that will appear in subsequent parts of the tutorial.\n"
   ]
  },
  {
   "cell_type": "code",
   "execution_count": null,
   "metadata": {},
   "outputs": [],
   "source": [
    "import geopandas as gpd"
   ]
  },
  {
   "cell_type": "code",
   "execution_count": null,
   "metadata": {},
   "outputs": [],
   "source": [
    "path = '../../geopandas_101_DATA/Forrest/data/nyc'\n",
    "\n",
    "schools = gpd.read_file(f\"{path}/SchoolPoints_APS_2024_08_28 (1)/SchoolPoints_APS_2024_08_28.shp\")\n",
    "subways = gpd.read_file(f\"{path}/nyc_subway_entrances/nyc_subway_entrances.shp\")\n",
    "bike_paths = gpd.read_file(f\"{path}/New York City Bike Routes_20241223.geojson\")\n",
    "parks = gpd.read_file(f\"{path}/Parks Properties_20241223.geojson\")\n",
    "hoods = gpd.read_file(f\"{path}/nyc_neighborhoods.geojson\")"
   ]
  },
  {
   "cell_type": "code",
   "execution_count": null,
   "metadata": {},
   "outputs": [],
   "source": [
    "schools.explore()"
   ]
  },
  {
   "cell_type": "code",
   "execution_count": null,
   "metadata": {},
   "outputs": [],
   "source": [
    "subways.explore()"
   ]
  },
  {
   "cell_type": "code",
   "execution_count": null,
   "metadata": {},
   "outputs": [],
   "source": [
    "bike_paths.explore()"
   ]
  },
  {
   "cell_type": "code",
   "execution_count": null,
   "metadata": {},
   "outputs": [],
   "source": [
    "parks.explore()"
   ]
  },
  {
   "cell_type": "code",
   "execution_count": null,
   "metadata": {},
   "outputs": [],
   "source": [
    "hoods.explore()"
   ]
  },
  {
   "cell_type": "markdown",
   "metadata": {},
   "source": [
    "We need to have the same CRS in all dataframes. We will set it to 3857. This CRM measures in meters."
   ]
  },
  {
   "cell_type": "code",
   "execution_count": null,
   "metadata": {},
   "outputs": [],
   "source": [
    "frames = [schools, subways, bike_paths, hoods, parks]\n",
    "for frame in frames:\n",
    "    print(frame.crs)"
   ]
  },
  {
   "cell_type": "code",
   "execution_count": null,
   "metadata": {},
   "outputs": [],
   "source": [
    "schools = schools.to_crs(\"EPSG:3857\")\n",
    "subways = subways.to_crs(\"EPSG:3857\")\n",
    "bike_paths = bike_paths.to_crs(\"EPSG:3857\")\n",
    "hoods = hoods.to_crs(\"EPSG:3857\")\n",
    "parks = parks.to_crs(\"EPSG:3857\")"
   ]
  },
  {
   "cell_type": "code",
   "execution_count": null,
   "metadata": {},
   "outputs": [],
   "source": [
    "frames = [schools, subways, bike_paths, hoods, parks]\n",
    "for frame in frames:\n",
    "    print(frame.crs)"
   ]
  },
  {
   "cell_type": "code",
   "execution_count": null,
   "metadata": {},
   "outputs": [],
   "source": [
    "for frame in frames:\n",
    "    print(frame.geom_type.unique())"
   ]
  },
  {
   "cell_type": "code",
   "execution_count": null,
   "metadata": {},
   "outputs": [],
   "source": [
    "import pandas as pd\n",
    "\n",
    "pd.options.display.float_format = '{:,.4f}'.format"
   ]
  },
  {
   "cell_type": "markdown",
   "metadata": {},
   "source": [
    "## Area"
   ]
  },
  {
   "cell_type": "markdown",
   "metadata": {},
   "source": [
    "Extract the area of each neighborhood from the ```geometry``` column. It is measureed in square meters."
   ]
  },
  {
   "cell_type": "code",
   "execution_count": null,
   "metadata": {},
   "outputs": [],
   "source": [
    "# 1. GeoSeries.area\n",
    "hoods[\"area\"] = hoods.geometry.area\n",
    "\n",
    "head = hoods.sort_values(['area'], ascending=False).head()\n",
    "display(head)\n",
    "head.explore()"
   ]
  },
  {
   "cell_type": "markdown",
   "metadata": {},
   "source": [
    "## Boundary"
   ]
  },
  {
   "cell_type": "code",
   "execution_count": null,
   "metadata": {},
   "outputs": [],
   "source": [
    "hoods.boundary.explore()"
   ]
  },
  {
   "cell_type": "code",
   "execution_count": null,
   "metadata": {
    "scrolled": true
   },
   "outputs": [],
   "source": [
    "# 2. GeoSeries.boundary\n",
    "hoods['boundary'] = hoods['geometry'].boundary"
   ]
  },
  {
   "cell_type": "code",
   "execution_count": null,
   "metadata": {},
   "outputs": [],
   "source": [
    "hoods['boundary'].explore()"
   ]
  },
  {
   "cell_type": "code",
   "execution_count": null,
   "metadata": {
    "scrolled": true
   },
   "outputs": [],
   "source": [
    "# 2. GeoSeries.boundary\n",
    "parks[\"boundary\"] = parks.geometry.boundary\n",
    "\n",
    "# Create a single geoseries with a different CRS\n",
    "parks_boundary = parks['boundary'].to_crs('EPSG:4326')\n",
    "\n",
    "# parks.explore()\n",
    "# parks.geometry.explore()\n",
    "\n",
    "parks.boundary.explore()"
   ]
  },
  {
   "cell_type": "code",
   "execution_count": null,
   "metadata": {},
   "outputs": [],
   "source": [
    "type(parks)"
   ]
  },
  {
   "cell_type": "code",
   "execution_count": null,
   "metadata": {},
   "outputs": [],
   "source": [
    "type(parks_boundary)"
   ]
  },
  {
   "cell_type": "markdown",
   "metadata": {
    "scrolled": true
   },
   "source": [
    "Notice that parks now has two geometry type variables: 'geometry' and 'boundary'\n",
    "\n",
    "GeoPandas can only have one active geometry column at a time — the one that defines the spatial behavior of the DataFrame (e.g., used for plotting, spatial joins, CRS operations).\n",
    "\n",
    "So while gdf now contains two columns with geometry-like data, only one is recognized by GeoPandas as the \"active\" geometry.\n",
    "\n",
    "The active geometry column is usually named \"geometry\".\n",
    "\n",
    "Your new \"boundary\" column simply stores geometry objects (usually LineString types), but is treated like a regular data column unless you explicitly set it as the active geometry.\n",
    "\n",
    "To know which is the active geometry column: ```gdf.geometry.name```\n",
    "\n",
    "If you want GeoPandas to use \"boundary\" as the main geometry: ```gdf.set_geometry('boundary')```\n",
    ")\n",
    "\n",
    "Now gdf.geometry.name will return 'boundary', and all spatial methods like .plot(), .to_crs(), or .area will apply to that column."
   ]
  },
  {
   "cell_type": "code",
   "execution_count": null,
   "metadata": {
    "scrolled": true
   },
   "outputs": [],
   "source": [
    "parks.geometry.name"
   ]
  },
  {
   "cell_type": "code",
   "execution_count": null,
   "metadata": {},
   "outputs": [],
   "source": [
    "parks.set_geometry('boundary').geometry.name"
   ]
  },
  {
   "cell_type": "markdown",
   "metadata": {},
   "source": [
    "Also notice that the boundary column doesn't contain polygons anymore, but lines (the polygon's boundary lines)"
   ]
  },
  {
   "cell_type": "code",
   "execution_count": null,
   "metadata": {},
   "outputs": [],
   "source": [
    "print(parks.geom_type.unique())\n",
    "print(parks['boundary'].geom_type.unique())"
   ]
  },
  {
   "cell_type": "markdown",
   "metadata": {},
   "source": [
    "## Bounds"
   ]
  },
  {
   "cell_type": "markdown",
   "metadata": {},
   "source": [
    "The ```.bounds``` property in GeoPandas returns the bounding box (or extent) of each geometry in your GeoDataFrame or GeoSeries.\n",
    "A bounding box is the smallest rectangle (aligned with the coordinate axes) that completely encloses a geometry.\n",
    "\n",
    "```.bounds``` returns a regular Pandas (not GeoPandas) data frame."
   ]
  },
  {
   "cell_type": "code",
   "execution_count": null,
   "metadata": {},
   "outputs": [],
   "source": [
    "parks.crs"
   ]
  },
  {
   "cell_type": "code",
   "execution_count": null,
   "metadata": {},
   "outputs": [],
   "source": [
    "parks_4326 = parks.to_crs(epsg=4326)"
   ]
  },
  {
   "cell_type": "code",
   "execution_count": null,
   "metadata": {},
   "outputs": [],
   "source": [
    "# parks.geometry.bounds\n",
    "# parks.boundary.bounds\n",
    "parks.bounds"
   ]
  },
  {
   "cell_type": "code",
   "execution_count": null,
   "metadata": {},
   "outputs": [],
   "source": [
    "parks_4326.bounds"
   ]
  },
  {
   "cell_type": "code",
   "execution_count": null,
   "metadata": {},
   "outputs": [],
   "source": [
    "parks.total_bounds"
   ]
  },
  {
   "cell_type": "code",
   "execution_count": null,
   "metadata": {},
   "outputs": [],
   "source": [
    "parks_4326.total_bounds"
   ]
  },
  {
   "cell_type": "code",
   "execution_count": null,
   "metadata": {},
   "outputs": [],
   "source": [
    "from shapely.geometry import box\n",
    "\n",
    "# Create bounding boxes as geometries\n",
    "bounds = parks_4326.bounds\n",
    "boxes = [box(xmin, ymin, xmax, ymax) for xmin, ymin, xmax, ymax in bounds.values]\n",
    "\n",
    "# Turn bounding boxes into a GeoDataFrame\n",
    "bounds_gdf = gpd.GeoDataFrame(geometry=boxes, crs=parks_4326.crs)\n",
    "\n",
    "# Plot original geometries with bounds overlaid\n",
    "ax = parks_4326.plot(edgecolor='black', facecolor='lightgray', linewidth=0.5)\n",
    "bounds_gdf.plot(ax=ax, edgecolor='red', facecolor='none', linewidth=0.5)"
   ]
  },
  {
   "cell_type": "code",
   "execution_count": null,
   "metadata": {},
   "outputs": [],
   "source": [
    "from shapely.geometry import box\n",
    "\n",
    "# Create bounding boxes as geometries\n",
    "bounds = parks.bounds\n",
    "boxes = [box(xmin, ymin, xmax, ymax) for xmin, ymin, xmax, ymax in bounds.values]\n",
    "\n",
    "# Turn bounding boxes into a GeoDataFrame\n",
    "bounds_gdf = gpd.GeoDataFrame(geometry=boxes, crs=parks.crs)\n",
    "\n",
    "# Plot original geometries with bounds overlaid\n",
    "ax = parks.plot(edgecolor='black', facecolor='lightgray', linewidth=0.5)\n",
    "bounds_gdf.plot(ax=ax, edgecolor='red', facecolor='none', linewidth=0.5)"
   ]
  },
  {
   "cell_type": "code",
   "execution_count": null,
   "metadata": {},
   "outputs": [],
   "source": [
    "bounds_gdf.explore()"
   ]
  },
  {
   "cell_type": "code",
   "execution_count": null,
   "metadata": {},
   "outputs": [],
   "source": [
    "parks.crs"
   ]
  },
  {
   "cell_type": "code",
   "execution_count": null,
   "metadata": {},
   "outputs": [],
   "source": [
    "parks_4326.crs"
   ]
  },
  {
   "cell_type": "code",
   "execution_count": null,
   "metadata": {},
   "outputs": [],
   "source": [
    "parks.length\n",
    "parks.boundary.length"
   ]
  },
  {
   "cell_type": "markdown",
   "metadata": {},
   "source": [
    "## Length"
   ]
  },
  {
   "cell_type": "markdown",
   "metadata": {},
   "source": [
    "[EPSG 2263](https://epsg.io/?q=2263) is specific to New York state and Long Island. It measures distances in feet."
   ]
  },
  {
   "cell_type": "code",
   "execution_count": null,
   "metadata": {},
   "outputs": [],
   "source": [
    "paths_2263 = bike_paths.to_crs('EPSG:2263')"
   ]
  },
  {
   "cell_type": "code",
   "execution_count": null,
   "metadata": {},
   "outputs": [],
   "source": [
    "# The geometry of this frame contains only lines, so all areas should be zero\n",
    "assert (paths_2263.area==0).all()"
   ]
  },
  {
   "cell_type": "code",
   "execution_count": null,
   "metadata": {},
   "outputs": [],
   "source": [
    "paths_2263[\"length\"] = paths_2263.geometry.length"
   ]
  },
  {
   "cell_type": "code",
   "execution_count": null,
   "metadata": {},
   "outputs": [],
   "source": [
    "# Plot the longest bike path in NYC\n",
    "mask = paths_2263['length']==paths_2263['length'].max()\n",
    "paths_2263.loc[mask].buffer(100).explore()"
   ]
  },
  {
   "cell_type": "code",
   "execution_count": null,
   "metadata": {},
   "outputs": [],
   "source": [
    "schools[\"nearest_subway_distance\"] = schools.geometry.apply(\n",
    "    lambda school: subways.distance(school).min()\n",
    ")\n",
    "# or:\n",
    "# schools[\"nearest_subway_distance\"] = [subways.distance(g).min() for g in schools.geometry]"
   ]
  },
  {
   "cell_type": "code",
   "execution_count": null,
   "metadata": {},
   "outputs": [],
   "source": [
    "schools[['Name', 'nearest_subway_distance']].sort_values(by=['nearest_subway_distance'], ascending=True)"
   ]
  },
  {
   "cell_type": "code",
   "execution_count": null,
   "metadata": {},
   "outputs": [],
   "source": [
    "schools[schools['Name'].isin(['P.S. 150', 'P.S. 094 David D. Porter'])].buffer(500).explore()"
   ]
  },
  {
   "cell_type": "code",
   "execution_count": null,
   "metadata": {},
   "outputs": [],
   "source": [
    "import matplotlib.pyplot as plt\n",
    "\n",
    "# Create a figure and axis\n",
    "fig, ax = plt.subplots(figsize=(10, 10))\n",
    "\n",
    "# Plot all schools as blue points\n",
    "schools.plot(ax=ax, color='blue', markersize=5, label='Schools')\n",
    "\n",
    "# Plot all subway stations as red points\n",
    "subways.plot(ax=ax, color='red', markersize=8, label='Subway Stations')\n",
    "\n",
    "# Add a legend and title\n",
    "plt.legend()\n",
    "plt.title(\"Schools and Subway Stations in the City\", fontsize=14)\n",
    "plt.xlabel(\"Longitude\")\n",
    "plt.ylabel(\"Latitude\")\n",
    "\n",
    "plt.show()"
   ]
  },
  {
   "cell_type": "code",
   "execution_count": null,
   "metadata": {},
   "outputs": [],
   "source": [
    "hoods.explore()"
   ]
  },
  {
   "cell_type": "code",
   "execution_count": null,
   "metadata": {},
   "outputs": [],
   "source": [
    "hoods.centroid.explore()"
   ]
  },
  {
   "cell_type": "code",
   "execution_count": null,
   "metadata": {},
   "outputs": [],
   "source": [
    "bike_paths.geometry.buffer(10)"
   ]
  },
  {
   "cell_type": "code",
   "execution_count": null,
   "metadata": {},
   "outputs": [],
   "source": [
    "bike_paths.geometry"
   ]
  },
  {
   "cell_type": "code",
   "execution_count": null,
   "metadata": {},
   "outputs": [],
   "source": [
    "bike_paths.head(100).geometry.explore()"
   ]
  },
  {
   "cell_type": "code",
   "execution_count": null,
   "metadata": {},
   "outputs": [],
   "source": [
    "bike_paths.head(100).geometry.buffer(100).explore()"
   ]
  },
  {
   "cell_type": "code",
   "execution_count": null,
   "metadata": {},
   "outputs": [],
   "source": [
    "parks[\"intersects_bike_path\"] = parks.geometry.apply(\n",
    "    lambda park: bike_paths.geometry.intersects(park).any()\n",
    ")"
   ]
  },
  {
   "cell_type": "code",
   "execution_count": null,
   "metadata": {},
   "outputs": [],
   "source": [
    "parks[parks['intersects_bike_path'] == True].explore()"
   ]
  },
  {
   "cell_type": "code",
   "execution_count": null,
   "metadata": {},
   "outputs": [],
   "source": [
    "parks.explore()"
   ]
  },
  {
   "cell_type": "code",
   "execution_count": null,
   "metadata": {},
   "outputs": [],
   "source": [
    "parks.minimum_bounding_circle().explore()"
   ]
  },
  {
   "cell_type": "code",
   "execution_count": null,
   "metadata": {},
   "outputs": [],
   "source": [
    "parks[parks['eapply']==\"Central Park\"].minimum_bounding_circle().explore()"
   ]
  },
  {
   "cell_type": "code",
   "execution_count": null,
   "metadata": {},
   "outputs": [],
   "source": [
    "parks[parks['eapply']==\"Central Park\"].envelope.explore()"
   ]
  },
  {
   "cell_type": "code",
   "execution_count": null,
   "metadata": {},
   "outputs": [],
   "source": [
    "parks[parks['eapply']==\"Central Park\"].boundary.explore()"
   ]
  },
  {
   "cell_type": "code",
   "execution_count": null,
   "metadata": {},
   "outputs": [],
   "source": [
    "hoods[hoods['neighborhood']==\"Upper West Side\"].geometry.explore()"
   ]
  },
  {
   "cell_type": "code",
   "execution_count": null,
   "metadata": {},
   "outputs": [],
   "source": [
    "hoods[hoods['neighborhood']==\"Upper West Side\"].geometry.simplify(tolerance=0.001).explore()"
   ]
  },
  {
   "cell_type": "code",
   "execution_count": null,
   "metadata": {},
   "outputs": [],
   "source": [
    "hoods[hoods['neighborhood']==\"Upper West Side\"].geometry.convex_hull.explore()"
   ]
  },
  {
   "cell_type": "code",
   "execution_count": null,
   "metadata": {},
   "outputs": [],
   "source": [
    "hoods[hoods['neighborhood']==\"Upper West Side\"].geometry.envelope.explore()"
   ]
  },
  {
   "cell_type": "code",
   "execution_count": null,
   "metadata": {},
   "outputs": [],
   "source": [
    "hoods[hoods['neighborhood']==\"Upper West Side\"].geometry.minimum_bounding_circle().explore()"
   ]
  },
  {
   "cell_type": "code",
   "execution_count": null,
   "metadata": {},
   "outputs": [],
   "source": [
    "hoods.geometry.convex_hull.explore()"
   ]
  },
  {
   "cell_type": "code",
   "execution_count": null,
   "metadata": {},
   "outputs": [],
   "source": [
    "schools.geometry.envelope.explore()"
   ]
  },
  {
   "cell_type": "code",
   "execution_count": null,
   "metadata": {},
   "outputs": [],
   "source": [
    "schools.geometry.envelope.explore()"
   ]
  },
  {
   "cell_type": "code",
   "execution_count": null,
   "metadata": {},
   "outputs": [],
   "source": [
    "parks_neighborhoods_overlay = hoods.overlay(parks, how=\"intersection\")"
   ]
  },
  {
   "cell_type": "code",
   "execution_count": null,
   "metadata": {},
   "outputs": [],
   "source": [
    "parks_neighborhoods_overlay"
   ]
  },
  {
   "cell_type": "code",
   "execution_count": null,
   "metadata": {},
   "outputs": [],
   "source": [
    "print(parks['geometry'])\n",
    "print(hoods['geometry'])\n",
    "print(parks_neighborhoods_overlay['geometry'])"
   ]
  },
  {
   "cell_type": "code",
   "execution_count": null,
   "metadata": {},
   "outputs": [],
   "source": [
    "parks.boundary.explore()"
   ]
  },
  {
   "cell_type": "code",
   "execution_count": null,
   "metadata": {},
   "outputs": [],
   "source": [
    "parks.geometry.boundary.explore()"
   ]
  },
  {
   "cell_type": "code",
   "execution_count": null,
   "metadata": {},
   "outputs": [],
   "source": [
    "print(len(parks_neighborhoods_overlay))\n",
    "print(len(hoods))"
   ]
  },
  {
   "cell_type": "code",
   "execution_count": null,
   "metadata": {},
   "outputs": [],
   "source": [
    "parks_neighborhoods_overlay.explore()"
   ]
  },
  {
   "cell_type": "code",
   "execution_count": null,
   "metadata": {},
   "outputs": [],
   "source": [
    "neighborhoods_parks_overlay.explore()"
   ]
  },
  {
   "cell_type": "code",
   "execution_count": null,
   "metadata": {},
   "outputs": [],
   "source": [
    "neighborhoods_parks_overlay = parks.overlay(hoods, how=\"intersection\")"
   ]
  },
  {
   "cell_type": "code",
   "execution_count": null,
   "metadata": {},
   "outputs": [],
   "source": [
    "neighborhoods_parks_overlay"
   ]
  },
  {
   "cell_type": "code",
   "execution_count": null,
   "metadata": {},
   "outputs": [],
   "source": []
  },
  {
   "cell_type": "code",
   "execution_count": null,
   "metadata": {},
   "outputs": [],
   "source": [
    "subways[\"translated\"] = subways.geometry.translate(xoff=1000, yoff=1000)\n",
    "subways.translated.explore()"
   ]
  },
  {
   "cell_type": "code",
   "execution_count": null,
   "metadata": {},
   "outputs": [],
   "source": [
    "parks.geometry.is_valid"
   ]
  },
  {
   "cell_type": "code",
   "execution_count": null,
   "metadata": {},
   "outputs": [],
   "source": [
    "hoods.geometry.exterior.explore()"
   ]
  },
  {
   "cell_type": "code",
   "execution_count": null,
   "metadata": {},
   "outputs": [],
   "source": [
    "bike_paths.geometry.geom_type\n"
   ]
  },
  {
   "cell_type": "code",
   "execution_count": null,
   "metadata": {},
   "outputs": [],
   "source": [
    "schools[\"x\"] = schools.geometry.to_crs(epsg=4326).x\n",
    "schools[\"y\"] = schools.geometry.to_crs(epsg=4326).y"
   ]
  },
  {
   "cell_type": "code",
   "execution_count": null,
   "metadata": {},
   "outputs": [],
   "source": [
    "schools.info()"
   ]
  },
  {
   "cell_type": "code",
   "execution_count": null,
   "metadata": {},
   "outputs": [],
   "source": [
    "schools[['x', 'Longitude', 'y', 'Latitude']]"
   ]
  },
  {
   "cell_type": "code",
   "execution_count": null,
   "metadata": {},
   "outputs": [],
   "source": [
    "hoods[\"contains_parks\"] = hoods.geometry.apply(\n",
    "    lambda neighborhood: parks.geometry.apply(\n",
    "        lambda park: neighborhood.contains(park)\n",
    "    ).any()\n",
    ")"
   ]
  },
  {
   "cell_type": "code",
   "execution_count": null,
   "metadata": {},
   "outputs": [],
   "source": [
    "hoods[hoods['contains_parks'] == False].explore()"
   ]
  },
  {
   "cell_type": "code",
   "execution_count": null,
   "metadata": {},
   "outputs": [],
   "source": [
    "bike_paths[\"crosses_parks\"] = bike_paths.geometry.apply(\n",
    "    lambda path: path.crosses(parks.geometry).any()\n",
    ")"
   ]
  },
  {
   "cell_type": "code",
   "execution_count": null,
   "metadata": {},
   "outputs": [],
   "source": [
    "bike_paths[bike_paths['crosses_parks'] == True].explore()"
   ]
  },
  {
   "cell_type": "code",
   "execution_count": null,
   "metadata": {},
   "outputs": [],
   "source": [
    "parks[\"disjoint_neighborhoods\"] = parks.geometry.apply(\n",
    "    lambda park: park.disjoint(hoods.geometry).all()\n",
    ")"
   ]
  },
  {
   "cell_type": "code",
   "execution_count": null,
   "metadata": {},
   "outputs": [],
   "source": [
    "parks[parks['disjoint_neighborhoods'] == True].explore()"
   ]
  },
  {
   "cell_type": "code",
   "execution_count": null,
   "metadata": {},
   "outputs": [],
   "source": [
    "def schoolsWithin500(school):\n",
    "    return school.distance(subways.geometry).any() <= 500"
   ]
  },
  {
   "cell_type": "code",
   "execution_count": null,
   "metadata": {},
   "outputs": [],
   "source": [
    "schools[\"within_500m_subway\"] = schools.geometry.apply(\n",
    "    schoolsWithin500\n",
    ")\n"
   ]
  },
  {
   "cell_type": "code",
   "execution_count": null,
   "metadata": {},
   "outputs": [],
   "source": [
    "subway_union = subways.geometry.union_all()\n",
    "schools[\"within_500m_subway\"] = schools.geometry.distance(subway_union) <= 500\n"
   ]
  },
  {
   "cell_type": "code",
   "execution_count": null,
   "metadata": {},
   "outputs": [],
   "source": [
    "schools[schools[\"within_500m_subway\"] == True].explore()"
   ]
  },
  {
   "cell_type": "code",
   "execution_count": null,
   "metadata": {},
   "outputs": [],
   "source": [
    "parks[\"overlaps_neighborhoods\"] = parks.geometry.apply(\n",
    "    lambda park: park.overlaps(hoods.geometry).any()\n",
    ")\n"
   ]
  },
  {
   "cell_type": "code",
   "execution_count": null,
   "metadata": {},
   "outputs": [],
   "source": [
    "parks[parks[\"overlaps_neighborhoods\"] == True].explore()"
   ]
  },
  {
   "cell_type": "code",
   "execution_count": null,
   "metadata": {},
   "outputs": [],
   "source": [
    "parks['geometry'].symmetric_difference(hoods['geometry']).explore()"
   ]
  },
  {
   "cell_type": "code",
   "execution_count": null,
   "metadata": {},
   "outputs": [],
   "source": []
  }
 ],
 "metadata": {
  "kernelspec": {
   "display_name": "Python 3 (ipykernel)",
   "language": "python",
   "name": "python3"
  },
  "language_info": {
   "codemirror_mode": {
    "name": "ipython",
    "version": 3
   },
   "file_extension": ".py",
   "mimetype": "text/x-python",
   "name": "python",
   "nbconvert_exporter": "python",
   "pygments_lexer": "ipython3",
   "version": "3.12.2"
  }
 },
 "nbformat": 4,
 "nbformat_minor": 4
}
