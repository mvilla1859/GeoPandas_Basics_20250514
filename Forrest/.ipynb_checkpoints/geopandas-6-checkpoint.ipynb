{
 "cells": [
  {
   "cell_type": "code",
   "execution_count": null,
   "metadata": {},
   "outputs": [],
   "source": [
    "pip install scikit-learn geopandas h3pandas h3~=3.0 -q"
   ]
  },
  {
   "cell_type": "code",
   "execution_count": 2,
   "metadata": {},
   "outputs": [],
   "source": [
    "import geopandas as gpd\n",
    "import h3pandas\n",
    "from shapely.geometry import Point, Polygon\n",
    "from sklearn.preprocessing import MinMaxScaler\n",
    "import numpy as np\n",
    "import pandas as pd"
   ]
  },
  {
   "cell_type": "code",
   "execution_count": 3,
   "metadata": {},
   "outputs": [],
   "source": [
    "schools = gpd.read_file(\"data/nyc/SchoolPoints_APS_2024_08_28 (1)/SchoolPoints_APS_2024_08_28.shp\")\n",
    "subways = gpd.read_file(\"data/nyc/nyc_subway_entrances/nyc_subway_entrances.shp\")\n",
    "bike_paths = gpd.read_file(\"data/nyc/New York City Bike Routes_20241223.geojson\")\n",
    "neighborhoods = gpd.read_file(\"https://raw.githubusercontent.com/HodgesWardElliott/custom-nyc-neighborhoods/refs/heads/master/custom-pedia-cities-nyc-Mar2018.geojson\")\n",
    "parks = gpd.read_file(\"data/nyc/Parks Properties_20241223.geojson\")"
   ]
  },
  {
   "cell_type": "code",
   "execution_count": 4,
   "metadata": {},
   "outputs": [],
   "source": [
    "schools = schools.to_crs(\"EPSG:3857\")\n",
    "subways = subways.to_crs(\"EPSG:3857\")\n",
    "bike_paths = bike_paths.to_crs(\"EPSG:3857\")\n",
    "neighborhoods = neighborhoods.to_crs(\"EPSG:3857\")\n",
    "parks = parks.to_crs(\"EPSG:3857\")"
   ]
  },
  {
   "cell_type": "markdown",
   "metadata": {},
   "source": [
    "# Analyze neighborhoods"
   ]
  },
  {
   "cell_type": "code",
   "execution_count": 107,
   "metadata": {},
   "outputs": [],
   "source": [
    "# Analysis for each neighborhood\n",
    "def analyze_neighborhood(neighborhood_geometry):\n",
    "    # Count features intersecting the neighborhood boundary\n",
    "    num_schools = schools[schools.geometry.intersects(neighborhood_geometry)].shape[0]\n",
    "    num_subways = subways[subways.geometry.intersects(neighborhood_geometry)].shape[0]\n",
    "    bike_path_length = bike_paths[bike_paths.geometry.intersects(neighborhood_geometry)].length.sum()\n",
    "    park_area = parks[parks.geometry.intersects(neighborhood_geometry)].area.sum()\n",
    "\n",
    "    return num_schools, num_subways, bike_path_length, park_area"
   ]
  },
  {
   "cell_type": "code",
   "execution_count": 108,
   "metadata": {},
   "outputs": [],
   "source": [
    "# Apply analysis to each neighborhood\n",
    "neighborhoods[['num_schools', 'num_subways', 'bike_path_length', 'park_area']] = neighborhoods.geometry.apply(\n",
    "    lambda geom: pd.Series(analyze_neighborhood(geom))\n",
    ")"
   ]
  },
  {
   "cell_type": "code",
   "execution_count": null,
   "metadata": {},
   "outputs": [],
   "source": [
    "neighborhoods.head(3)"
   ]
  },
  {
   "cell_type": "code",
   "execution_count": null,
   "metadata": {},
   "outputs": [],
   "source": [
    "neighborhoods.head(3)"
   ]
  },
  {
   "cell_type": "code",
   "execution_count": 111,
   "metadata": {},
   "outputs": [],
   "source": [
    "# Normalize results (0 to 1 scale)\n",
    "scaler = MinMaxScaler()\n",
    "columns_to_normalize = ['num_schools', 'num_subways', 'bike_path_length', 'park_area']\n",
    "neighborhoods[columns_to_normalize] = scaler.fit_transform(neighborhoods[columns_to_normalize])"
   ]
  },
  {
   "cell_type": "code",
   "execution_count": 112,
   "metadata": {},
   "outputs": [],
   "source": [
    "# Aggregate results using touching neighborhoods\n",
    "def aggregate_touching_neighborhoods(neighborhood_index):\n",
    "    current_geometry = neighborhoods.loc[neighborhood_index, 'geometry']\n",
    "    touching_indices = neighborhoods[neighborhoods.geometry.touches(current_geometry)].index\n",
    "\n",
    "    if not touching_indices.empty:\n",
    "        neighbor_values = neighborhoods.loc[touching_indices, columns_to_normalize].mean()\n",
    "    else:\n",
    "        neighbor_values = neighborhoods.loc[neighborhood_index, columns_to_normalize]\n",
    "\n",
    "    return neighbor_values"
   ]
  },
  {
   "cell_type": "code",
   "execution_count": 113,
   "metadata": {},
   "outputs": [],
   "source": [
    "# Apply aggregation to each neighborhood\n",
    "neighborhoods[columns_to_normalize] = neighborhoods.index.to_series().apply(\n",
    "    lambda idx: aggregate_touching_neighborhoods(idx)\n",
    ")\n"
   ]
  },
  {
   "cell_type": "code",
   "execution_count": 99,
   "metadata": {},
   "outputs": [],
   "source": [
    "# Final normalization (0 to 1 scale)\n",
    "neighborhoods[columns_to_normalize] = scaler.fit_transform(neighborhoods[columns_to_normalize])"
   ]
  },
  {
   "cell_type": "code",
   "execution_count": null,
   "metadata": {},
   "outputs": [],
   "source": [
    "neighborhoods.head(3)"
   ]
  },
  {
   "cell_type": "code",
   "execution_count": 115,
   "metadata": {},
   "outputs": [],
   "source": [
    "neighborhoods['index_score'] = neighborhoods['num_schools'] + neighborhoods['num_subways'] + neighborhoods['bike_path_length'] + neighborhoods['park_area'] "
   ]
  },
  {
   "cell_type": "code",
   "execution_count": null,
   "metadata": {},
   "outputs": [],
   "source": [
    "import leafmap\n",
    "\n",
    "m = leafmap.Map()\n",
    "m.add_data(\n",
    "    neighborhoods, column=\"index_score\", scheme=\"Quantiles\", cmap=\"Blues\", legend_title=\"Index\"\n",
    ")\n",
    "m"
   ]
  },
  {
   "cell_type": "code",
   "execution_count": 117,
   "metadata": {},
   "outputs": [],
   "source": [
    "# Save or visualize the results\n",
    "neighborhoods.to_file(\"neighborhood_access_index.geojson\", driver=\"GeoJSON\")"
   ]
  },
  {
   "cell_type": "markdown",
   "metadata": {},
   "source": [
    "# Set up the H3 Grid"
   ]
  },
  {
   "cell_type": "code",
   "execution_count": 29,
   "metadata": {},
   "outputs": [],
   "source": [
    "neighborhoods = neighborhoods.to_crs('EPSG:4326')"
   ]
  },
  {
   "cell_type": "code",
   "execution_count": 30,
   "metadata": {},
   "outputs": [],
   "source": [
    "resolution = 9  # Adjust resolution as needed\n",
    "gdf_h3 = neighborhoods.h3.polyfill(resolution)"
   ]
  },
  {
   "cell_type": "code",
   "execution_count": null,
   "metadata": {},
   "outputs": [],
   "source": [
    "gdf_h3.head()"
   ]
  },
  {
   "cell_type": "code",
   "execution_count": null,
   "metadata": {},
   "outputs": [],
   "source": [
    "gdf_h3 = neighborhoods.h3.polyfill(resolution, explode=True)\n",
    "gdf_h3.head()"
   ]
  },
  {
   "cell_type": "code",
   "execution_count": null,
   "metadata": {},
   "outputs": [],
   "source": [
    "gdf_h3 = gdf_h3[gdf_h3['h3_polyfill'].isnull() == False].set_index('h3_polyfill')\n",
    "gdf_h3.index.name = None\n",
    "gdf_h3"
   ]
  },
  {
   "cell_type": "code",
   "execution_count": 34,
   "metadata": {},
   "outputs": [],
   "source": [
    "gdf_h3 = gdf_h3.h3.h3_to_geo_boundary()"
   ]
  },
  {
   "cell_type": "code",
   "execution_count": null,
   "metadata": {},
   "outputs": [],
   "source": [
    "pip install folium matplotlib mapclassify -q"
   ]
  },
  {
   "cell_type": "code",
   "execution_count": null,
   "metadata": {},
   "outputs": [],
   "source": [
    "gdf_h3.explore()"
   ]
  },
  {
   "cell_type": "code",
   "execution_count": 37,
   "metadata": {},
   "outputs": [],
   "source": [
    "gdf_h3_proj = gdf_h3.to_crs('EPSG:3857')"
   ]
  },
  {
   "cell_type": "code",
   "execution_count": 38,
   "metadata": {},
   "outputs": [],
   "source": [
    "# Analysis for each hex cell\n",
    "def analyze_access(hex_geometry):\n",
    "    # Buffer hex geometry\n",
    "    buffer_1600m = hex_geometry.buffer(1600)\n",
    "    buffer_800m = hex_geometry.buffer(800)\n",
    "\n",
    "    # Count features within buffers\n",
    "    num_schools = schools[schools.geometry.intersects(buffer_1600m)].shape[0]\n",
    "    num_subways = subways[subways.geometry.intersects(buffer_1600m)].shape[0]\n",
    "    bike_path_length = bike_paths[bike_paths.geometry.intersects(buffer_1600m)].length.sum()\n",
    "    park_area = parks[parks.geometry.intersects(buffer_800m)].area.sum()\n",
    "\n",
    "    return num_schools, num_subways, bike_path_length, park_area"
   ]
  },
  {
   "cell_type": "code",
   "execution_count": 39,
   "metadata": {},
   "outputs": [],
   "source": [
    "gdf_h3_proj = gdf_h3.to_crs('EPSG:3857')"
   ]
  },
  {
   "cell_type": "code",
   "execution_count": 40,
   "metadata": {},
   "outputs": [],
   "source": [
    "gdf_h3_proj[['num_schools', 'num_subways', 'bike_path_length', 'park_area']] = gdf_h3_proj.geometry.apply(\n",
    "    lambda hex_geom: pd.Series(analyze_access(hex_geom))\n",
    ")\n"
   ]
  },
  {
   "cell_type": "code",
   "execution_count": null,
   "metadata": {},
   "outputs": [],
   "source": [
    "gdf_h3_proj.head()"
   ]
  },
  {
   "cell_type": "code",
   "execution_count": 42,
   "metadata": {},
   "outputs": [],
   "source": [
    "gdf_h3_proj['h3_index'] = gdf_h3_proj.index"
   ]
  },
  {
   "cell_type": "markdown",
   "metadata": {},
   "source": [
    "# Run the normalization analysis"
   ]
  },
  {
   "cell_type": "code",
   "execution_count": 43,
   "metadata": {},
   "outputs": [],
   "source": [
    "import h3"
   ]
  },
  {
   "cell_type": "code",
   "execution_count": 50,
   "metadata": {},
   "outputs": [],
   "source": [
    "# Normalize results\n",
    "scaler = MinMaxScaler()\n",
    "normalized_columns = ['num_schools', 'num_subways', 'bike_path_length', 'park_area']\n",
    "gdf_h3_proj[normalized_columns] = scaler.fit_transform(gdf_h3_proj[normalized_columns])\n",
    "\n",
    "# Aggregate results using neighboring cells\n",
    "def aggregate_neighbors(h3_index):\n",
    "    neighbors = h3.k_ring(h3_index, 2)  # 2-k ring\n",
    "    neighbor_values = gdf_h3_proj[gdf_h3_proj['h3_index'].isin(neighbors)][normalized_columns].mean()\n",
    "    return neighbor_values\n",
    "\n",
    "gdf_h3_proj[normalized_columns] = gdf_h3_proj['h3_index'].apply(\n",
    "    lambda h3_index: aggregate_neighbors(h3_index)\n",
    ")\n",
    "\n",
    "# # Final normalized analysis\n",
    "gdf_h3_proj[normalized_columns] = scaler.fit_transform(gdf_h3_proj[normalized_columns])\n",
    "\n",
    "# Save or visualize the results\n",
    "gdf_h3_proj.to_file(\"access_index.geojson\", driver=\"GeoJSON\")"
   ]
  },
  {
   "cell_type": "code",
   "execution_count": null,
   "metadata": {},
   "outputs": [],
   "source": [
    "gdf_h3_proj.head(3)"
   ]
  },
  {
   "cell_type": "markdown",
   "metadata": {},
   "source": [
    "# Create the total score"
   ]
  },
  {
   "cell_type": "code",
   "execution_count": 52,
   "metadata": {},
   "outputs": [],
   "source": [
    "gdf_h3_proj['index_score'] = gdf_h3_proj['num_schools'] + gdf_h3_proj['num_subways'] + gdf_h3_proj['bike_path_length'] + gdf_h3_proj['park_area'] "
   ]
  },
  {
   "cell_type": "code",
   "execution_count": 53,
   "metadata": {},
   "outputs": [],
   "source": [
    "import leafmap"
   ]
  },
  {
   "cell_type": "code",
   "execution_count": 54,
   "metadata": {},
   "outputs": [],
   "source": [
    "gdf_h3_map = gdf_h3_proj.to_crs('EPSG:4326')"
   ]
  },
  {
   "cell_type": "code",
   "execution_count": null,
   "metadata": {},
   "outputs": [],
   "source": [
    "m = leafmap.Map()\n",
    "m.add_data(\n",
    "    gdf_h3_map, column=\"index_score\", scheme=\"Quantiles\", cmap=\"Blues\", legend_title=\"Index\"\n",
    ")\n",
    "m"
   ]
  },
  {
   "cell_type": "code",
   "execution_count": null,
   "metadata": {},
   "outputs": [],
   "source": []
  }
 ],
 "metadata": {
  "kernelspec": {
   "display_name": "Python 3",
   "language": "python",
   "name": "python3"
  },
  "language_info": {
   "codemirror_mode": {
    "name": "ipython",
    "version": 3
   },
   "file_extension": ".py",
   "mimetype": "text/x-python",
   "name": "python",
   "nbconvert_exporter": "python",
   "pygments_lexer": "ipython3",
   "version": "3.12.6"
  }
 },
 "nbformat": 4,
 "nbformat_minor": 2
}
