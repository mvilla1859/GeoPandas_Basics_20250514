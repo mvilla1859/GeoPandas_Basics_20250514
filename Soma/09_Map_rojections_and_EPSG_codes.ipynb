{
 "cells": [
  {
   "cell_type": "markdown",
   "id": "42acebcf",
   "metadata": {},
   "source": [
    "# Map Projections and EPSG Codes in GeoPandas (Detailed Guide)\n",
    "This notebook explores how to customize map projections in GeoPandas using `.to_crs()`, how different projections affect visualization, and why EPSG codes simplify working with coordinate reference systems."
   ]
  },
  {
   "cell_type": "markdown",
   "id": "0f23d131",
   "metadata": {},
   "source": [
    "## Introduction to Plotting\n",
    "By default, calling `.plot()` on a GeoDataFrame produces a quick, basic visualization. This is useful for a first look, but often lacks accuracy or aesthetic appeal."
   ]
  },
  {
   "cell_type": "code",
   "execution_count": null,
   "id": "cc3d9198-4666-484e-8056-78be06b1b84a",
   "metadata": {},
   "outputs": [],
   "source": [
    "states = gpd.read_file(\"states/states.shp\")\n",
    "states.plot()"
   ]
  },
  {
   "cell_type": "markdown",
   "id": "5f319047",
   "metadata": {},
   "source": [
    "```python\n",
    "states.plot()\n",
    "```\n",
    "This basic approach throws everything on the screen without worrying about projection, scale, or appearance. However, for more meaningful analysis or better-looking maps, you should customize the projection."
   ]
  },
  {
   "cell_type": "markdown",
   "id": "fbc3ac39",
   "metadata": {},
   "source": [
    "## Why Projections Matter\n",
    "When visualizing or comparing geospatial datasets, it’s important to consider **map projections**—how the 3D Earth is translated onto a 2D map.\n",
    "\n",
    "Different projections preserve different aspects of geography:\n",
    "- **Shape** (conformal projections)\n",
    "- **Area** (equal-area projections)\n",
    "- **Distance**\n",
    "- **Direction**\n",
    "\n",
    "Projections distort space in various ways—your choice depends on what’s most important in your map."
   ]
  },
  {
   "cell_type": "markdown",
   "id": "8e465575",
   "metadata": {},
   "source": [
    "## Reprojecting with Mercator\n",
    "Mercator is a commonly used projection, especially for web maps, but it’s not ideal for all cases (e.g., mapping the entire U.S.)."
   ]
  },
  {
   "cell_type": "code",
   "execution_count": null,
   "id": "15513a0f",
   "metadata": {},
   "outputs": [],
   "source": [
    "states_mercator = states.to_crs(\"proj=merc\")\n",
    "states_mercator.plot()"
   ]
  },
  {
   "attachments": {},
   "cell_type": "markdown",
   "id": "80980e3c-fd80-41e1-bbb6-84a96012d837",
   "metadata": {},
   "source": [
    "## A Better Projection for the U.S.\n",
    "One projection that works well for the continental U.S. is the [Albers Equal-Area Conic Projection](https://epsg.io/5071). It provides good area preservation and a realistic shape.\n",
    "\n",
    "You can apply it manually, typing the projection's [parameters](https://epsg.io/5071.wkt) in a dictionary:"
   ]
  },
  {
   "cell_type": "code",
   "execution_count": null,
   "id": "a7f1403c",
   "metadata": {},
   "outputs": [],
   "source": [
    "states_albers = states.to_crs({\n",
    "    'proj': 'aea',\n",
    "    'datum': 'NAD83',\n",
    "    'lat_1': 29.5,\n",
    "    'lat_2': 45.5,\n",
    "    'lat_0': 23,\n",
    "    'lon_0': -96,\n",
    "    'no_defs': True\n",
    "})\n",
    "states_albers.plot()"
   ]
  },
  {
   "cell_type": "markdown",
   "id": "93fd9b4b",
   "metadata": {},
   "source": [
    "This method is powerful but verbose—many values need to be typed precisely."
   ]
  },
  {
   "cell_type": "markdown",
   "id": "d59d9127",
   "metadata": {},
   "source": [
    "## Simplifying Projections with EPSG Codes\n",
    "Rather than typing all the parameters yourself, use an [EPSG code](https://epsg.io/).\n",
    "\n",
    "EPSG codes are numeric identifiers that refer to predefined CRS configurations stored in GeoPandas and the PROJ database."
   ]
  },
  {
   "cell_type": "code",
   "execution_count": null,
   "id": "a9eddde5",
   "metadata": {},
   "outputs": [],
   "source": [
    "# Use EPSG code for Albers projection\n",
    "states_epsg = states.to_crs(epsg=5071)\n",
    "states_epsg.plot()"
   ]
  },
  {
   "cell_type": "markdown",
   "id": "cb5612d7",
   "metadata": {},
   "source": [
    "GeoPandas knows thousands of EPSG codes. These codes are widely used and documented, making them easier and more reliable than typing manual parameters."
   ]
  },
  {
   "cell_type": "markdown",
   "id": "9ec3a6ed",
   "metadata": {},
   "source": [
    "### What is EPSG?\n",
    "EPSG stands for **European Petroleum Survey Group**—a now-defunct organization that originally managed these codes for oil exploration. Today, they are widely used in GIS tools."
   ]
  },
  {
   "cell_type": "markdown",
   "id": "fabdbbb3",
   "metadata": {},
   "source": [
    "\n",
    "### Examples of Common EPSG Codes:\n",
    "- `EPSG:4326` → WGS84 (default for GPS and lat/lon)\n",
    "- `EPSG:4269` → NAD83\n",
    "- `EPSG:5071` → US Albers Equal-Area\n",
    "- `EPSG:2163` → US National Atlas Equal Area\n",
    "- `EPSG:3857` → Web Mercator\n"
   ]
  },
  {
   "cell_type": "markdown",
   "id": "b985bf4d",
   "metadata": {},
   "source": [
    "## Best Practices for Using EPSG Codes\n",
    "- Always use `epsg=<code>` format without quotes or curly braces.\n",
    "- Avoid typos: it’s `epsg`, not `espg`!\n",
    "- Keep a reference list of EPSG codes relevant to your work.\n",
    "- Use EPSG for reproducibility and simplicity."
   ]
  },
  {
   "cell_type": "markdown",
   "id": "b11e0243",
   "metadata": {},
   "source": [
    "## Summary\n",
    "- `.to_crs()` changes your map’s projection without altering the original data.\n",
    "- Choose a projection that fits your region and purpose.\n",
    "- Avoid verbose definitions by using **EPSG codes**.\n",
    "- GeoPandas understands EPSG codes and applies all related CRS settings automatically.\n",
    "\n",
    "🎯 Learning to reproject and visualize accurately is a key part of geospatial analysis."
   ]
  }
 ],
 "metadata": {
  "kernelspec": {
   "display_name": "Python 3 (ipykernel)",
   "language": "python",
   "name": "python3"
  },
  "language_info": {
   "codemirror_mode": {
    "name": "ipython",
    "version": 3
   },
   "file_extension": ".py",
   "mimetype": "text/x-python",
   "name": "python",
   "nbconvert_exporter": "python",
   "pygments_lexer": "ipython3",
   "version": "3.12.2"
  }
 },
 "nbformat": 4,
 "nbformat_minor": 5
}
