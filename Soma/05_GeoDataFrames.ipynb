{
 "cells": [
  {
   "cell_type": "markdown",
   "id": "471ea960",
   "metadata": {},
   "source": [
    "# Introduction to GeoDataFrames in GeoPandas\n",
    "This notebook dives deeper into what GeoDataFrames are, how they work, and how to use them for geographic data analysis and visualization."
   ]
  },
  {
   "cell_type": "markdown",
   "id": "b0d767c7",
   "metadata": {},
   "source": [
    "## What is a GeoDataFrame?\n",
    "A **GeoDataFrame** is like a regular Pandas DataFrame, but it has special support for geographic geometry data via a `geometry` column. This makes it the backbone of geospatial analysis with GeoPandas."
   ]
  },
  {
   "cell_type": "markdown",
   "id": "002eae04",
   "metadata": {},
   "source": [
    "## Viewing the Data\n",
    "By loading a shapefile with `gpd.read_file()`, you create a GeoDataFrame. Let’s load the U.S. states shapefile and view the first few rows."
   ]
  },
  {
   "cell_type": "code",
   "execution_count": null,
   "id": "635b07b7",
   "metadata": {},
   "outputs": [],
   "source": [
    "import geopandas as gpd\n",
    "\n",
    "# Load shapefile\n",
    "states = gpd.read_file(\"states/States.shp\")\n",
    "\n",
    "# Preview the first five rows\n",
    "states.head()"
   ]
  },
  {
   "cell_type": "markdown",
   "id": "f44d7490",
   "metadata": {},
   "source": [
    "## The `geometry` Column Explained\n",
    "Every row in a GeoDataFrame has a geometry:\n",
    "- In our dataset, it’s a **polygon** representing each state.\n",
    "- Other common geometry types:\n",
    "  - **Point** – locations like cities, restaurants, or power plants\n",
    "  - **LineString** – linear features like roads and rivers\n",
    "  - **Polygon** – areas such as states, buildings, or parks\n",
    "\n",
    "Each entry in the `geometry` column contains a shape object."
   ]
  },
  {
   "cell_type": "markdown",
   "id": "4953d9c0",
   "metadata": {},
   "source": [
    "## Visualizing the Data\n",
    "To see the geometry in action, you can directly plot the GeoDataFrame. This is one of the most exciting parts—visual confirmation!"
   ]
  },
  {
   "cell_type": "code",
   "execution_count": null,
   "id": "9a91bf2a",
   "metadata": {},
   "outputs": [],
   "source": [
    "states.plot()"
   ]
  },
  {
   "cell_type": "markdown",
   "id": "201996bb",
   "metadata": {},
   "source": [
    "This will display a map of the continental United States. It’s a simple way to check that your spatial data loaded correctly."
   ]
  },
  {
   "cell_type": "markdown",
   "id": "515be08c",
   "metadata": {},
   "source": [
    "## Reminder: A Geometry Column ≠ GeoDataFrame\n",
    "You **can’t** create a GeoDataFrame just by adding a column called `geometry` to a regular DataFrame. GeoDataFrames are special objects created with GeoPandas. You must use GeoPandas to convert or construct them properly."
   ]
  },
  {
   "cell_type": "markdown",
   "id": "789bc3ff",
   "metadata": {},
   "source": [
    "## Filtering GeoDataFrames\n",
    "Just like with Pandas, you can filter your GeoDataFrame by any attribute. Let’s filter by population."
   ]
  },
  {
   "cell_type": "code",
   "execution_count": null,
   "id": "13acc50d",
   "metadata": {},
   "outputs": [],
   "source": [
    "# States with population > 10 million\n",
    "high_pop = states[states['population'] > 10_000_000]\n",
    "high_pop"
   ]
  },
  {
   "cell_type": "code",
   "execution_count": null,
   "id": "adc45579",
   "metadata": {},
   "outputs": [],
   "source": [
    "# Plot only the filtered high population states\n",
    "high_pop.plot()"
   ]
  },
  {
   "cell_type": "markdown",
   "id": "24b9bc44",
   "metadata": {},
   "source": [
    "## Why Use GeoDataFrames?\n",
    "In addition to Pandas-like capabilities (e.g. `.head()`, filtering), GeoDataFrames can:\n",
    "- Be projected into different coordinate systems\n",
    "- Perform spatial joins\n",
    "- Buffer, intersect, and merge shapes\n",
    "- Plot maps with automatic scaling and coordinate awareness"
   ]
  },
  {
   "cell_type": "markdown",
   "id": "907c89a0",
   "metadata": {},
   "source": [
    "# Summary\n",
    "- GeoDataFrames are DataFrames with a `geometry` column.\n",
    "- The geometry can be polygons, points, or lines.\n",
    "- Use `.plot()` to create visual maps.\n",
    "- Use all regular DataFrame functions + powerful geospatial ones.\n",
    "\n",
    "🎯 You’re now ready to explore spatial data with ease using GeoPandas!"
   ]
  },
  {
   "cell_type": "code",
   "execution_count": null,
   "id": "3871fecf-4ad6-4dac-9a2e-2d8f94aecaf4",
   "metadata": {},
   "outputs": [],
   "source": []
  }
 ],
 "metadata": {
  "kernelspec": {
   "display_name": "Python 3 (ipykernel)",
   "language": "python",
   "name": "python3"
  },
  "language_info": {
   "codemirror_mode": {
    "name": "ipython",
    "version": 3
   },
   "file_extension": ".py",
   "mimetype": "text/x-python",
   "name": "python",
   "nbconvert_exporter": "python",
   "pygments_lexer": "ipython3",
   "version": "3.12.2"
  }
 },
 "nbformat": 4,
 "nbformat_minor": 5
}
