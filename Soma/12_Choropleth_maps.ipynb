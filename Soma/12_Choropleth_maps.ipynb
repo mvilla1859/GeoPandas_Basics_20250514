{
 "cells": [
  {
   "cell_type": "markdown",
   "id": "fbb48003",
   "metadata": {},
   "source": [
    "# Building Choropleth Maps with GeoPandas\n",
    "*Mapping Quantities with Color Using Spatial Joins and Data Aggregation*"
   ]
  },
  {
   "cell_type": "markdown",
   "id": "6f8e0ac4",
   "metadata": {},
   "source": [
    "\n",
    "So far, we've worked a lot with spatial joins—but we haven't yet created one of the most sought-after visualizations in geospatial analysis: the **choropleth**.\n",
    "\n",
    "A **choropleth** is a type of map where numerical values are represented by varying color shades. Lighter shades represent smaller values; darker shades represent larger ones. They're useful for visualizing things like:\n",
    "- Population\n",
    "- Crime rates\n",
    "- Number of power plants\n",
    "- Yelp scores\n",
    "- Goat ownership (seriously)\n",
    "\n",
    "Let's learn how to build one.\n"
   ]
  },
  {
   "cell_type": "markdown",
   "id": "90495af6",
   "metadata": {},
   "source": [
    "## Step 1: Get the Joined Data\n",
    "We've already performed a spatial join where each power plant has been associated with the state it's located in."
   ]
  },
  {
   "cell_type": "code",
   "execution_count": null,
   "id": "7b2d1c9b",
   "metadata": {},
   "outputs": [],
   "source": [
    "import geopandas as gpd\n",
    "import matplotlib.pyplot as plt\n",
    "\n",
    "# Sample loading (replace with actual paths)\n",
    "states_url = '../../geopandas_101_DATA/us/cb_2022_us_state_500k.zip'\n",
    "plants_url = \"../../geopandas_101_DATA/us/Power_Plants_in_the_US_5860152164617264051.geojson\"\n",
    "\n",
    "states = gpd.read_file(states_url)\n",
    "plants = gpd.read_file(plants_url)\n",
    "\n",
    "states.to_crs(plants.crs, inplace=True)\n",
    "joined = gpd.sjoin(plants, states, how='inner', predicate='within')"
   ]
  },
  {
   "cell_type": "markdown",
   "id": "742d6b14",
   "metadata": {},
   "source": [
    "\n",
    "## Step 2: Count Power Plants Per State\n",
    "We now want to count how many power plants each state contains. This is a classic `.value_counts()` task.\n"
   ]
  },
  {
   "cell_type": "code",
   "execution_count": null,
   "id": "e9542d22",
   "metadata": {},
   "outputs": [],
   "source": [
    "plant_counts = joined['NAME'].value_counts()\n",
    "plant_counts.head()"
   ]
  },
  {
   "cell_type": "markdown",
   "id": "73aa4269",
   "metadata": {},
   "source": [
    "\n",
    "At this point, we have what we need to build a choropleth—almost. We have state names and their associated power plant counts, but we’re missing the **geometry** to draw them.\n",
    "\n",
    "That means we can’t map yet. So what’s the fix?\n"
   ]
  },
  {
   "cell_type": "markdown",
   "id": "73229692",
   "metadata": {},
   "source": [
    "\n",
    "You might think, \"Let me switch the spatial join and make states the first argument.\" That way, each row will include **state geometry**, which is what we want to plot.\n"
   ]
  },
  {
   "cell_type": "code",
   "execution_count": null,
   "id": "64bc398c-f85d-428d-aa9b-5103334a8ea5",
   "metadata": {},
   "outputs": [],
   "source": [
    "plants.sindex.valid_query_predicates"
   ]
  },
  {
   "cell_type": "code",
   "execution_count": null,
   "id": "e543e222",
   "metadata": {},
   "outputs": [],
   "source": [
    "# Get state geometry instead of plant points\n",
    "states_with_plants = gpd.sjoin(states, plants, how='inner', predicate='contains')"
   ]
  },
  {
   "cell_type": "markdown",
   "id": "bddf0d86",
   "metadata": {},
   "source": [
    "\n",
    "Looks good—each row now contains a **state polygon** and plant data.\n",
    "\n",
    "BUT there's a catch: if we inspect the shape of the resulting GeoDataFrame...\n"
   ]
  },
  {
   "cell_type": "code",
   "execution_count": null,
   "id": "c1fb2131",
   "metadata": {},
   "outputs": [],
   "source": [
    "print(states_with_plants.shape)"
   ]
  },
  {
   "cell_type": "markdown",
   "id": "2e93d50c",
   "metadata": {},
   "source": [
    "\n",
    "Uh-oh. We now have thousands of rows—one for **each power plant**, each including the same repeated state geometry.\n",
    "\n",
    "We don’t want thousands of polygons. We want **one polygon per state**.\n",
    "\n",
    "Time for a better approach.\n"
   ]
  },
  {
   "cell_type": "markdown",
   "id": "ea88ca42",
   "metadata": {},
   "source": [
    "\n",
    "## Step 3: Return to the Clean States GeoDataFrame\n",
    "Remember that beautiful, clean `states` GeoDataFrame we started with? It has one shape per state. That’s what we want.\n",
    "\n",
    "Let’s go back to that and find a way to merge in the plant counts.\n"
   ]
  },
  {
   "cell_type": "code",
   "execution_count": null,
   "id": "a069dedd",
   "metadata": {},
   "outputs": [],
   "source": [
    "states = states.set_index('NAME')"
   ]
  },
  {
   "cell_type": "markdown",
   "id": "b17257ce",
   "metadata": {},
   "source": [
    "\n",
    "Now that state names are our index, and `plant_counts` is also indexed by state name, we can **assign the values directly**.\n"
   ]
  },
  {
   "cell_type": "code",
   "execution_count": null,
   "id": "fd2944da-04f5-4de7-9368-1397dc5e15be",
   "metadata": {},
   "outputs": [],
   "source": [
    "states['power_plant_count'] = plant_counts\n",
    "states = states.sort_values(['power_plant_count'], \n",
    "                            ascending=False)\n",
    "# states = states.reset_index()\n",
    "states.head()"
   ]
  },
  {
   "cell_type": "markdown",
   "id": "fa083825",
   "metadata": {},
   "source": [
    "## Step 4: Plot the Choropleth"
   ]
  },
  {
   "cell_type": "code",
   "execution_count": null,
   "id": "f716b067",
   "metadata": {},
   "outputs": [],
   "source": [
    "def states_mapping(variable, legend_label):\n",
    "    fig, ax = plt.subplots(figsize=(12, 10),)\n",
    "    \n",
    "    states.plot(\n",
    "        ax=ax,\n",
    "        column=variable, \n",
    "        edgecolor='gray',\n",
    "        cmap='OrRd',\n",
    "        legend=True, \n",
    "        legend_kwds={\n",
    "            'label': legend_label,\n",
    "            'orientation': 'horizontal',\n",
    "            'shrink': 0.5\n",
    "        }\n",
    "    )\n",
    "    \n",
    "    # for idx, row in states.iterrows():\n",
    "    #     centroid = row['geometry'].centroid\n",
    "    #     ax.text(\n",
    "    #         centroid.x, centroid.y, row['STUSPS'],\n",
    "    #         fontsize=8, ha='center', va='center',\n",
    "    #         color='black'\n",
    "    #     )\n",
    "\n",
    "    for centroid, label in zip(states['geometry'].centroid, states[\"STUSPS\"]):\n",
    "        ax.text(\n",
    "            centroid.x, centroid.y, label, \n",
    "            fontsize=5, color='black', \n",
    "            ha='center', va='center',\n",
    "        )\n",
    "\n",
    "    \n",
    "    ax.set_aspect('equal')\n",
    "    \n",
    "    # ax.axis(\"off\")\n",
    "    \n",
    "    minx, miny, maxx, maxy = states.total_bounds\n",
    "    # ax.set_xlim(minx, maxx)\n",
    "    # ax.set_ylim(miny, maxy)\n",
    "    ax.set_xlim([-180, -60])  # Approximate longitude bounds for continental US + Alaska\n",
    "    ax.set_ylim([20, 75])     # Approximate latitude bounds\n",
    "    \n",
    "    plt.tight_layout()\n",
    "    \n",
    "    fig.savefig(f'output/{variable}.png', dpi=300, bbox_inches='tight')\n",
    "    \n",
    "    plt.show()"
   ]
  },
  {
   "cell_type": "code",
   "execution_count": null,
   "id": "825e92ec-e78a-490b-918e-f087c0e6f2b8",
   "metadata": {},
   "outputs": [],
   "source": [
    "states_mapping('power_plant_count', 'Number of Power Plants')"
   ]
  },
  {
   "cell_type": "markdown",
   "id": "8e7d34d1",
   "metadata": {},
   "source": [
    "\n",
    "## Bonus: Add Another Variable — Total Megawatts\n",
    "Now that we know how to summarize, let’s try something more numerical: summing total megawatts by state.\n"
   ]
  },
  {
   "cell_type": "code",
   "execution_count": null,
   "id": "daf540e6-1896-4511-8be2-027b5a4d7f47",
   "metadata": {},
   "outputs": [],
   "source": [
    "megawatts_by_state = joined.groupby('NAME')['Total_MW'].sum()\n",
    "states['megawatts'] = megawatts_by_state"
   ]
  },
  {
   "cell_type": "code",
   "execution_count": null,
   "id": "6a1859a9",
   "metadata": {},
   "outputs": [],
   "source": [
    "states_mapping('megawatts', 'Total MW')"
   ]
  },
  {
   "cell_type": "code",
   "execution_count": null,
   "id": "eb77a108-96bc-46a0-993b-f0b2bf678216",
   "metadata": {},
   "outputs": [],
   "source": [
    "# Create the plot\n",
    "fig, ax = plt.subplots(figsize=(15, 10))\n",
    "\n",
    "# Plot the states as filled polygons\n",
    "\n",
    "# Plot the power plants as red points\n",
    "plants.plot(\n",
    "# plants[plants['Plant_Name']==\"Winnetka\"].plot(\n",
    "    ax=ax,\n",
    "    color='red',\n",
    "    markersize=1,\n",
    "    alpha=0.7,\n",
    "    label='Power Plants'\n",
    ")\n",
    "\n",
    "states.plot(\n",
    "    ax=ax,\n",
    "    color='none',\n",
    "    edgecolor='black',\n",
    "    linewidth=0.3\n",
    ")\n",
    "\n",
    "# Add title and clean up plot\n",
    "ax.set_title(\"U.S. Power Plants by Location\", fontsize=18, fontweight='bold')\n",
    "ax.set_axis_off()\n",
    "ax.legend()\n",
    "\n",
    "# Improve layout\n",
    "plt.tight_layout()\n",
    "\n",
    "fig.savefig('output/Winnetka.png', dpi=300, )\n",
    "\n",
    "plt.show()\n"
   ]
  },
  {
   "cell_type": "markdown",
   "id": "6c74e297",
   "metadata": {},
   "source": [
    "\n",
    "## 🧠 Deep Dive: How Did That Assignment Work?\n",
    "You might be wondering how GeoPandas knew where to put the counts and megawatts.\n",
    "\n",
    "**Answer: the index.**\n",
    "\n",
    "When you assign a Series to a DataFrame, Pandas matches rows by index—NOT by row order.\n",
    "\n",
    "We set the index of `states` to state names. And our summaries are also indexed by state names. So assignment works smoothly:\n",
    "```python\n",
    "states['some_column'] = some_series\n",
    "```\n",
    "...works **as long as the indexes match**.\n"
   ]
  },
  {
   "cell_type": "markdown",
   "id": "6fdcbf6d",
   "metadata": {},
   "source": [
    "\n",
    "## ✅ Recap\n",
    "\n",
    "- Spatial joins can link points (e.g., power plants) to areas (e.g., states).\n",
    "- Aggregating values per region (e.g., `value_counts`, `groupby().sum()`) gives you something to color.\n",
    "- Use the clean geometry dataset (one shape per area) for mapping.\n",
    "- Always match indexes before assigning columns.\n",
    "\n",
    "🗺️ You now know how to build choropleths from raw point data in GeoPandas!\n"
   ]
  }
 ],
 "metadata": {
  "kernelspec": {
   "display_name": "Python 3 (ipykernel)",
   "language": "python",
   "name": "python3"
  },
  "language_info": {
   "codemirror_mode": {
    "name": "ipython",
    "version": 3
   },
   "file_extension": ".py",
   "mimetype": "text/x-python",
   "name": "python",
   "nbconvert_exporter": "python",
   "pygments_lexer": "ipython3",
   "version": "3.12.2"
  }
 },
 "nbformat": 4,
 "nbformat_minor": 5
}
