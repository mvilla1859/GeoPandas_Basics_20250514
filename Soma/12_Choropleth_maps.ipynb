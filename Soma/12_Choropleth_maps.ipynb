{
 "cells": [
  {
   "cell_type": "markdown",
   "id": "fbb48003",
   "metadata": {},
   "source": [
    "# Building Choropleth Maps with GeoPandas\n",
    "*Mapping Quantities with Color Using Spatial Joins and Data Aggregation*"
   ]
  },
  {
   "cell_type": "markdown",
   "id": "6f8e0ac4",
   "metadata": {},
   "source": [
    "\n",
    "So far, we've worked a lot with spatial joins—but we haven't yet created one of the most sought-after visualizations in geospatial analysis: the **choropleth**.\n",
    "\n",
    "A **choropleth** is a type of map where numerical values are represented by varying color shades. Lighter shades represent smaller values; darker shades represent larger ones. They're useful for visualizing things like:\n",
    "- Population\n",
    "- Crime rates\n",
    "- Number of power plants\n",
    "- Yelp scores\n",
    "- Goat ownership (seriously)\n",
    "\n",
    "Let's learn how to build one.\n"
   ]
  },
  {
   "cell_type": "markdown",
   "id": "90495af6",
   "metadata": {},
   "source": [
    "## Step 1: Get the Joined Data\n",
    "We've already performed a spatial join where each power plant has been associated with the state it's located in."
   ]
  },
  {
   "cell_type": "code",
   "execution_count": null,
   "id": "7b2d1c9b",
   "metadata": {},
   "outputs": [],
   "source": [
    "# Assume 'plants' and 'states' are preloaded GeoDataFrames\n",
    "joined = gpd.sjoin(plants, states, how='inner', op='within')"
   ]
  },
  {
   "cell_type": "markdown",
   "id": "742d6b14",
   "metadata": {},
   "source": [
    "\n",
    "## Step 2: Count Power Plants Per State\n",
    "We now want to count how many power plants each state contains. This is a classic `.value_counts()` task.\n"
   ]
  },
  {
   "cell_type": "code",
   "execution_count": null,
   "id": "e9542d22",
   "metadata": {},
   "outputs": [],
   "source": [
    "plant_counts = joined['name'].value_counts()\n",
    "plant_counts.head()"
   ]
  },
  {
   "cell_type": "markdown",
   "id": "73aa4269",
   "metadata": {},
   "source": [
    "\n",
    "At this point, we have what we need to build a choropleth—almost. We have state names and their associated power plant counts, but we’re missing the **geometry** to draw them.\n",
    "\n",
    "That means we can’t map yet. So what’s the fix?\n"
   ]
  },
  {
   "cell_type": "markdown",
   "id": "73229692",
   "metadata": {},
   "source": [
    "\n",
    "You might think, \"Let me switch the spatial join and make states the first argument.\" That way, each row will include **state geometry**, which is what we want to plot.\n"
   ]
  },
  {
   "cell_type": "code",
   "execution_count": null,
   "id": "e543e222",
   "metadata": {},
   "outputs": [],
   "source": [
    "# Get state geometry instead of plant points\n",
    "states_with_plants = gpd.sjoin(states, plants, how='inner', op='contains')"
   ]
  },
  {
   "cell_type": "markdown",
   "id": "bddf0d86",
   "metadata": {},
   "source": [
    "\n",
    "Looks good—each row now contains a **state polygon** and plant data.\n",
    "\n",
    "BUT there's a catch: if we inspect the shape of the resulting GeoDataFrame...\n"
   ]
  },
  {
   "cell_type": "code",
   "execution_count": null,
   "id": "c1fb2131",
   "metadata": {},
   "outputs": [],
   "source": [
    "print(states_with_plants.shape)"
   ]
  },
  {
   "cell_type": "markdown",
   "id": "2e93d50c",
   "metadata": {},
   "source": [
    "\n",
    "Uh-oh. We now have thousands of rows—one for **each power plant**, each including the same repeated state geometry.\n",
    "\n",
    "We don’t want thousands of polygons. We want **one polygon per state**.\n",
    "\n",
    "Time for a better approach.\n"
   ]
  },
  {
   "cell_type": "markdown",
   "id": "ea88ca42",
   "metadata": {},
   "source": [
    "\n",
    "## Step 3: Return to the Clean States GeoDataFrame\n",
    "Remember that beautiful, clean `states` GeoDataFrame we started with? It has one shape per state. That’s what we want.\n",
    "\n",
    "Let’s go back to that and find a way to merge in the plant counts.\n"
   ]
  },
  {
   "cell_type": "code",
   "execution_count": null,
   "id": "a069dedd",
   "metadata": {},
   "outputs": [],
   "source": [
    "states = states.set_index('name')"
   ]
  },
  {
   "cell_type": "markdown",
   "id": "b17257ce",
   "metadata": {},
   "source": [
    "\n",
    "Now that state names are our index, and `plant_counts` is also indexed by state name, we can **assign the values directly**.\n"
   ]
  },
  {
   "cell_type": "code",
   "execution_count": null,
   "id": "0849474a",
   "metadata": {},
   "outputs": [],
   "source": [
    "states['power_plant_count'] = plant_counts"
   ]
  },
  {
   "cell_type": "markdown",
   "id": "fa083825",
   "metadata": {},
   "source": [
    "## Step 4: Plot the Choropleth"
   ]
  },
  {
   "cell_type": "code",
   "execution_count": null,
   "id": "f716b067",
   "metadata": {},
   "outputs": [],
   "source": [
    "states.plot(column='power_plant_count', legend=True, figsize=(20, 20))"
   ]
  },
  {
   "cell_type": "markdown",
   "id": "8e7d34d1",
   "metadata": {},
   "source": [
    "\n",
    "## Bonus: Add Another Variable — Total Megawatts\n",
    "Now that we know how to summarize, let’s try something more numerical: summing total megawatts by state.\n"
   ]
  },
  {
   "cell_type": "code",
   "execution_count": null,
   "id": "3cb24a00",
   "metadata": {},
   "outputs": [],
   "source": [
    "megawatts_by_state = joined.groupby('name')['megawatts'].sum()\n",
    "states['megawatts'] = megawatts_by_state"
   ]
  },
  {
   "cell_type": "code",
   "execution_count": null,
   "id": "6a1859a9",
   "metadata": {},
   "outputs": [],
   "source": [
    "states.plot(column='megawatts', cmap='OrRd', legend=True, figsize=(20, 20))"
   ]
  },
  {
   "cell_type": "markdown",
   "id": "6c74e297",
   "metadata": {},
   "source": [
    "\n",
    "## 🧠 Deep Dive: How Did That Assignment Work?\n",
    "You might be wondering how GeoPandas knew where to put the counts and megawatts.\n",
    "\n",
    "**Answer: the index.**\n",
    "\n",
    "When you assign a Series to a DataFrame, Pandas matches rows by index—NOT by row order.\n",
    "\n",
    "We set the index of `states` to state names. And our summaries are also indexed by state names. So assignment works smoothly:\n",
    "```python\n",
    "states['some_column'] = some_series\n",
    "```\n",
    "...works **as long as the indexes match**.\n"
   ]
  },
  {
   "cell_type": "markdown",
   "id": "a9f3c140",
   "metadata": {},
   "source": [
    "## Step 5: Reset Index (Optional)\n",
    "If you're exporting to CSV or want to access the state name as a normal column, you may want to reset the index."
   ]
  },
  {
   "cell_type": "code",
   "execution_count": null,
   "id": "10837959",
   "metadata": {},
   "outputs": [],
   "source": [
    "states.reset_index(inplace=True)"
   ]
  },
  {
   "cell_type": "markdown",
   "id": "6fdcbf6d",
   "metadata": {},
   "source": [
    "\n",
    "## ✅ Recap\n",
    "\n",
    "- Spatial joins can link points (e.g., power plants) to areas (e.g., states).\n",
    "- Aggregating values per region (e.g., `value_counts`, `groupby().sum()`) gives you something to color.\n",
    "- Use the clean geometry dataset (one shape per area) for mapping.\n",
    "- Always match indexes before assigning columns.\n",
    "\n",
    "🗺️ You now know how to build choropleths from raw point data in GeoPandas!\n"
   ]
  }
 ],
 "metadata": {
  "kernelspec": {
   "display_name": "Python 3 (ipykernel)",
   "language": "python",
   "name": "python3"
  },
  "language_info": {
   "codemirror_mode": {
    "name": "ipython",
    "version": 3
   },
   "file_extension": ".py",
   "mimetype": "text/x-python",
   "name": "python",
   "nbconvert_exporter": "python",
   "pygments_lexer": "ipython3",
   "version": "3.12.2"
  }
 },
 "nbformat": 4,
 "nbformat_minor": 5
}
