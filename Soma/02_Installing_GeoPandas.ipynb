{
 "cells": [
  {
   "cell_type": "markdown",
   "id": "472f6d54",
   "metadata": {},
   "source": [
    "# Detailed GeoPandas Installation Guide for macOS (OSX)\n",
    "This notebook is a detailed, step-by-step guide based on a tutorial video. It explains how to install GeoPandas and its dependencies on macOS using Homebrew and pipenv."
   ]
  },
  {
   "cell_type": "markdown",
   "id": "c1c06a30",
   "metadata": {},
   "source": [
    "## Why Installing GeoPandas Can Be Challenging\n",
    "Installing GeoPandas isn't just about one library—it brings along many other dependencies. Some are Python-based, but others are spatial libraries written in other languages (like C/C++), which need to be installed separately."
   ]
  },
  {
   "cell_type": "markdown",
   "id": "eba8afd3",
   "metadata": {},
   "source": [
    "## Step 1: Install Non-Python Dependencies\n",
    "GeoPandas depends on spatial technologies like **GEOS** and **GDAL**, which must be installed first. These are not Python libraries, but compiled tools used under the hood."
   ]
  },
  {
   "cell_type": "markdown",
   "id": "192517bf",
   "metadata": {},
   "source": [
    "We'll use **Homebrew** to install these, which keeps things clean and easy to uninstall later if needed."
   ]
  },
  {
   "cell_type": "code",
   "execution_count": 1,
   "id": "56495f8b",
   "metadata": {},
   "outputs": [],
   "source": [
    "# #!brew install gdal"
   ]
  },
  {
   "cell_type": "code",
   "execution_count": 2,
   "id": "286f3eb9",
   "metadata": {},
   "outputs": [],
   "source": [
    "# #!brew install geos"
   ]
  },
  {
   "cell_type": "code",
   "execution_count": 3,
   "id": "397dd0bd",
   "metadata": {},
   "outputs": [],
   "source": [
    "# #!brew install spatialindex  # Optional but sometimes needed later"
   ]
  },
  {
   "cell_type": "markdown",
   "id": "f564da0e",
   "metadata": {},
   "source": [
    "After each install, check the terminal output for any **error messages**. Look for red text or messages about permissions, missing compilers, or broken links."
   ]
  },
  {
   "cell_type": "markdown",
   "id": "7fdf0e44",
   "metadata": {},
   "source": [
    "## Step 2: Install Required Python Libraries\n",
    "Now that the system libraries are in place, we'll install the Python packages using `pipenv`."
   ]
  },
  {
   "cell_type": "markdown",
   "id": "5b00e331",
   "metadata": {},
   "source": [
    "\n",
    "We'll install:\n",
    "- `pillow`: image processing\n",
    "- `pysal`: advanced spatial analysis (used here mostly for coloring maps)\n",
    "- `geopandas`: the main library\n",
    "- `basemap`: used for drawing specific types of maps (optional)\n",
    "- `rtree`: for spatial indexing\n"
   ]
  },
  {
   "cell_type": "code",
   "execution_count": 4,
   "id": "6efff8c8",
   "metadata": {},
   "outputs": [],
   "source": [
    "#!pipenv install pillow"
   ]
  },
  {
   "cell_type": "code",
   "execution_count": 5,
   "id": "81a95d59",
   "metadata": {},
   "outputs": [],
   "source": [
    "#!pipenv install pysal"
   ]
  },
  {
   "cell_type": "code",
   "execution_count": 6,
   "id": "24c70955",
   "metadata": {},
   "outputs": [],
   "source": [
    "#!pipenv install geopandas"
   ]
  },
  {
   "cell_type": "markdown",
   "id": "d4e3364b",
   "metadata": {},
   "source": [
    "### Special Case: Installing Basemap\n",
    "Basemap requires a special install directly from GitHub. It's optional but nice to have."
   ]
  },
  {
   "cell_type": "code",
   "execution_count": 7,
   "id": "bb4d5974",
   "metadata": {},
   "outputs": [],
   "source": [
    "#!pipenv install https://github.com/matplotlib/basemap/archive/master.zip"
   ]
  },
  {
   "cell_type": "code",
   "execution_count": 8,
   "id": "a12c10b0",
   "metadata": {},
   "outputs": [],
   "source": [
    "#!pipenv install rtree"
   ]
  },
  {
   "cell_type": "markdown",
   "id": "f5fde85f",
   "metadata": {},
   "source": [
    "\n",
    "### What About `shapely`, `fiona`, and `descartes`?\n",
    "These are **critical dependencies** of GeoPandas, but **you don't need to install them manually**. They will be installed automatically when you install `geopandas`.\n",
    "\n",
    "If you're missing them, check that your `geopandas` install was successful.\n"
   ]
  },
  {
   "cell_type": "markdown",
   "id": "92119e79",
   "metadata": {},
   "source": [
    "\n",
    "## 🛠 Troubleshooting Tips\n",
    "If you see:\n",
    "- **Permission denied** errors: try running with `sudo`, or check folder permissions.\n",
    "- **Compiler errors**: you may be missing Xcode CLI tools.\n",
    "- **Missing pipenv**: try using `pip` or ensure Python 3 is correctly installed via Homebrew.\n",
    "\n",
    "If you run into problems, you're likely not alone—searching the error or checking GitHub issues can help.\n"
   ]
  },
  {
   "cell_type": "markdown",
   "id": "90f9a2c4",
   "metadata": {},
   "source": [
    "# ✅ All Set!\n",
    "GeoPandas and its ecosystem should now be ready. You can now start doing geospatial data analysis in Python."
   ]
  },
  {
   "cell_type": "code",
   "execution_count": null,
   "id": "1527ec36-a1ae-4b11-b450-cc69952cf18f",
   "metadata": {},
   "outputs": [],
   "source": []
  }
 ],
 "metadata": {
  "kernelspec": {
   "display_name": "Python 3 (ipykernel)",
   "language": "python",
   "name": "python3"
  },
  "language_info": {
   "codemirror_mode": {
    "name": "ipython",
    "version": 3
   },
   "file_extension": ".py",
   "mimetype": "text/x-python",
   "name": "python",
   "nbconvert_exporter": "python",
   "pygments_lexer": "ipython3",
   "version": "3.12.4"
  }
 },
 "nbformat": 4,
 "nbformat_minor": 5
}
