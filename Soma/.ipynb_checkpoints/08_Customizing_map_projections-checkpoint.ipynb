{
 "cells": [
  {
   "cell_type": "markdown",
   "id": "0368ea42",
   "metadata": {},
   "source": [
    "# Customizing Map Projections in GeoPandas\n",
    "This notebook explains how to customize map projections in GeoPandas using `.to_crs()`. It also introduces EPSG codes as a simplified way to manage coordinate reference systems."
   ]
  },
  {
   "cell_type": "markdown",
   "id": "9d20cee8",
   "metadata": {},
   "source": [
    "## Why Customize Your Map Projection?\n",
    "By default, `.plot()` just throws everything on the screen using your dataset’s CRS. But for better readability, accuracy, or aesthetics, it's often helpful to reproject your data for mapping."
   ]
  },
  {
   "cell_type": "code",
   "execution_count": null,
   "id": "74785854-b1bc-47f5-9f5f-e43fbc407250",
   "metadata": {},
   "outputs": [],
   "source": [
    "states = gpd.read_file(\"states/states.shp\")\n",
    "states.plot()"
   ]
  },
  {
   "cell_type": "markdown",
   "id": "ccc72fcd",
   "metadata": {},
   "source": [
    "## Reprojecting with Mercator\n",
    "You can reproject your data using the Mercator projection."
   ]
  },
  {
   "cell_type": "code",
   "execution_count": null,
   "id": "9171fcdc",
   "metadata": {},
   "outputs": [],
   "source": [
    "# Reproject to Mercator and plot\n",
    "states_merc = states.to_crs({\"proj\": \"merc\"})\n",
    "states_merc.plot()"
   ]
  },
  {
   "cell_type": "markdown",
   "id": "c00e6cb7",
   "metadata": {},
   "source": [
    "## Using a Custom Projection (Albers Equal-Area for US)\n",
    "All CRSs have an EPSG code. And each You can reproject using a detailed dictionary describing projection parameters."
   ]
  },
  {
   "cell_type": "code",
   "execution_count": null,
   "id": "efba2820",
   "metadata": {},
   "outputs": [],
   "source": [
    "states_albers = states.to_crs({\n",
    "    'datum': 'NAD83',\n",
    "    'proj': 'aea',\n",
    "    'lat_1': 29.5,\n",
    "    'lat_2': 45.5,\n",
    "    'lat_0': 23,\n",
    "    'lon_0': -96,\n",
    "    'no_defs': True\n",
    "})\n",
    "states_albers.plot()"
   ]
  },
  {
   "cell_type": "markdown",
   "id": "e4a8c758",
   "metadata": {},
   "source": [
    "That’s a lot to type—and easy to get wrong. Thankfully, we can simplify this using EPSG codes."
   ]
  },
  {
   "cell_type": "markdown",
   "id": "b1e66317",
   "metadata": {},
   "source": [
    "## What Are EPSG Codes?\n",
    "EPSG codes are short numeric codes that represent full CRS definitions. GeoPandas knows thousands of these.\n",
    "\n",
    "Examples:\n",
    "- `EPSG:4326` → WGS84 (default for lat/lon)\n",
    "- `EPSG:5071` → Albers projection for continental U.S.\n",
    "- `EPSG:2163`, `EPSG:4939`, etc."
   ]
  },
  {
   "cell_type": "code",
   "execution_count": null,
   "id": "f0f7c5aa",
   "metadata": {},
   "outputs": [],
   "source": [
    "states_proj = states.to_crs(epsg=5071)\n",
    "states_proj.plot()"
   ]
  },
  {
   "cell_type": "markdown",
   "id": "709380c3",
   "metadata": {},
   "source": [
    "## Comparison of Methods\n",
    "There are two main ways to use `.to_crs()`:\n",
    "1. **Dictionary of parameters** (verbose and detailed)\n",
    "2. **EPSG code** (simple and reusable)\n",
    "\n",
    "Use EPSG codes when possible for readability and maintainability."
   ]
  },
  {
   "cell_type": "markdown",
   "id": "cb2111ee",
   "metadata": {},
   "source": [
    "## Tips for Working with EPSG Codes\n",
    "- Always use `epsg=5071` (not `EPSG:5071`, no quotes or braces).\n",
    "- GeoPandas already knows how to handle these codes.\n",
    "- Bad EPSG codes will still work, but produce inaccurate maps.\n",
    "- Keep a list of frequently used EPSG codes for regions or tasks."
   ]
  },
  {
   "cell_type": "markdown",
   "id": "fb8f7388",
   "metadata": {},
   "source": [
    "## Summary\n",
    "- Use `.to_crs()` to change your GeoDataFrame’s projection for mapping.\n",
    "- Use `'proj=merc'` for quick Mercator maps.\n",
    "- For more precise projections, use dictionaries or EPSG codes.\n",
    "- **EPSG codes** are preferred—short, accurate, and widely supported.\n",
    "\n",
    "📌 Knowing how to use projections gives you control over how your geospatial data is displayed and analyzed."
   ]
  }
 ],
 "metadata": {
  "kernelspec": {
   "display_name": "Python 3 (ipykernel)",
   "language": "python",
   "name": "python3"
  },
  "language_info": {
   "codemirror_mode": {
    "name": "ipython",
    "version": 3
   },
   "file_extension": ".py",
   "mimetype": "text/x-python",
   "name": "python",
   "nbconvert_exporter": "python",
   "pygments_lexer": "ipython3",
   "version": "3.12.2"
  }
 },
 "nbformat": 4,
 "nbformat_minor": 5
}
