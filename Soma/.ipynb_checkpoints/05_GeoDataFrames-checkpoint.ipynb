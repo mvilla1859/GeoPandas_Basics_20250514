{
 "cells": [
  {
   "cell_type": "markdown",
   "id": "471ea960",
   "metadata": {},
   "source": [
    "# Introduction to GeoDataFrames in GeoPandas\n",
    "This notebook dives deeper into what GeoDataFrames are, how they work, and how to use them for geographic data analysis and visualization."
   ]
  },
  {
   "cell_type": "markdown",
   "id": "b0d767c7",
   "metadata": {},
   "source": [
    "## What is a GeoDataFrame?\n",
    "A **GeoDataFrame** is like a regular Pandas DataFrame, but it has special support for geographic geometry data via a `geometry` column. This makes it the backbone of geospatial analysis with GeoPandas."
   ]
  },
  {
   "cell_type": "markdown",
   "id": "002eae04",
   "metadata": {},
   "source": [
    "## Viewing the Data\n",
    "By loading a shapefile with `gpd.read_file()`, you create a GeoDataFrame. Let’s load the U.S. states shapefile and view the first few rows."
   ]
  },
  {
   "cell_type": "code",
   "execution_count": 4,
   "id": "635b07b7",
   "metadata": {},
   "outputs": [
    {
     "name": "stdout",
     "output_type": "stream",
     "text": [
      "<class 'geopandas.geodataframe.GeoDataFrame'>\n",
      "RangeIndex: 52 entries, 0 to 51\n",
      "Data columns (total 10 columns):\n",
      " #   Column    Non-Null Count  Dtype   \n",
      "---  ------    --------------  -----   \n",
      " 0   STATEFP   52 non-null     object  \n",
      " 1   STATENS   52 non-null     object  \n",
      " 2   GEOIDFQ   52 non-null     object  \n",
      " 3   GEOID     52 non-null     object  \n",
      " 4   STUSPS    52 non-null     object  \n",
      " 5   NAME      52 non-null     object  \n",
      " 6   LSAD      52 non-null     object  \n",
      " 7   ALAND     52 non-null     int64   \n",
      " 8   AWATER    52 non-null     int64   \n",
      " 9   geometry  52 non-null     geometry\n",
      "dtypes: geometry(1), int64(2), object(7)\n",
      "memory usage: 4.2+ KB\n",
      "None\n"
     ]
    },
    {
     "data": {
      "text/html": [
       "<div>\n",
       "<style scoped>\n",
       "    .dataframe tbody tr th:only-of-type {\n",
       "        vertical-align: middle;\n",
       "    }\n",
       "\n",
       "    .dataframe tbody tr th {\n",
       "        vertical-align: top;\n",
       "    }\n",
       "\n",
       "    .dataframe thead th {\n",
       "        text-align: right;\n",
       "    }\n",
       "</style>\n",
       "<table border=\"1\" class=\"dataframe\">\n",
       "  <thead>\n",
       "    <tr style=\"text-align: right;\">\n",
       "      <th></th>\n",
       "      <th>STATEFP</th>\n",
       "      <th>STATENS</th>\n",
       "      <th>GEOIDFQ</th>\n",
       "      <th>GEOID</th>\n",
       "      <th>STUSPS</th>\n",
       "      <th>NAME</th>\n",
       "      <th>LSAD</th>\n",
       "      <th>ALAND</th>\n",
       "      <th>AWATER</th>\n",
       "      <th>geometry</th>\n",
       "    </tr>\n",
       "  </thead>\n",
       "  <tbody>\n",
       "    <tr>\n",
       "      <th>0</th>\n",
       "      <td>48</td>\n",
       "      <td>01779801</td>\n",
       "      <td>0400000US48</td>\n",
       "      <td>48</td>\n",
       "      <td>TX</td>\n",
       "      <td>Texas</td>\n",
       "      <td>00</td>\n",
       "      <td>676656702022</td>\n",
       "      <td>19011620342</td>\n",
       "      <td>POLYGON ((-106.62344 31.91403, -106.63011 31.9...</td>\n",
       "    </tr>\n",
       "    <tr>\n",
       "      <th>1</th>\n",
       "      <td>06</td>\n",
       "      <td>01779778</td>\n",
       "      <td>0400000US06</td>\n",
       "      <td>06</td>\n",
       "      <td>CA</td>\n",
       "      <td>California</td>\n",
       "      <td>00</td>\n",
       "      <td>403673433805</td>\n",
       "      <td>20291632828</td>\n",
       "      <td>MULTIPOLYGON (((-118.59397 33.4672, -118.48478...</td>\n",
       "    </tr>\n",
       "    <tr>\n",
       "      <th>2</th>\n",
       "      <td>21</td>\n",
       "      <td>01779786</td>\n",
       "      <td>0400000US21</td>\n",
       "      <td>21</td>\n",
       "      <td>KY</td>\n",
       "      <td>Kentucky</td>\n",
       "      <td>00</td>\n",
       "      <td>102266755818</td>\n",
       "      <td>2384136185</td>\n",
       "      <td>POLYGON ((-89.54443 36.57451, -89.47935 36.566...</td>\n",
       "    </tr>\n",
       "    <tr>\n",
       "      <th>3</th>\n",
       "      <td>13</td>\n",
       "      <td>01705317</td>\n",
       "      <td>0400000US13</td>\n",
       "      <td>13</td>\n",
       "      <td>GA</td>\n",
       "      <td>Georgia</td>\n",
       "      <td>00</td>\n",
       "      <td>149485762701</td>\n",
       "      <td>4419221858</td>\n",
       "      <td>POLYGON ((-85.60516 34.98468, -85.47434 34.983...</td>\n",
       "    </tr>\n",
       "    <tr>\n",
       "      <th>4</th>\n",
       "      <td>55</td>\n",
       "      <td>01779806</td>\n",
       "      <td>0400000US55</td>\n",
       "      <td>55</td>\n",
       "      <td>WI</td>\n",
       "      <td>Wisconsin</td>\n",
       "      <td>00</td>\n",
       "      <td>140294555214</td>\n",
       "      <td>29341156602</td>\n",
       "      <td>MULTIPOLYGON (((-86.93428 45.42115, -86.83575 ...</td>\n",
       "    </tr>\n",
       "  </tbody>\n",
       "</table>\n",
       "</div>"
      ],
      "text/plain": [
       "  STATEFP   STATENS      GEOIDFQ GEOID STUSPS        NAME LSAD         ALAND  \\\n",
       "0      48  01779801  0400000US48    48     TX       Texas   00  676656702022   \n",
       "1      06  01779778  0400000US06    06     CA  California   00  403673433805   \n",
       "2      21  01779786  0400000US21    21     KY    Kentucky   00  102266755818   \n",
       "3      13  01705317  0400000US13    13     GA     Georgia   00  149485762701   \n",
       "4      55  01779806  0400000US55    55     WI   Wisconsin   00  140294555214   \n",
       "\n",
       "        AWATER                                           geometry  \n",
       "0  19011620342  POLYGON ((-106.62344 31.91403, -106.63011 31.9...  \n",
       "1  20291632828  MULTIPOLYGON (((-118.59397 33.4672, -118.48478...  \n",
       "2   2384136185  POLYGON ((-89.54443 36.57451, -89.47935 36.566...  \n",
       "3   4419221858  POLYGON ((-85.60516 34.98468, -85.47434 34.983...  \n",
       "4  29341156602  MULTIPOLYGON (((-86.93428 45.42115, -86.83575 ...  "
      ]
     },
     "execution_count": 4,
     "metadata": {},
     "output_type": "execute_result"
    }
   ],
   "source": [
    "import geopandas as gpd\n",
    "\n",
    "# Load shapefile\n",
    "# states = gpd.read_file(\"states/States.shp\")\n",
    "states = gpd.read_file('../../geopandas_101_DATA/cb_2024_us_state_20m/cb_2024_us_state_20m.shp')\n",
    "\n",
    "# Preview the first five rows\n",
    "print(states.info())\n",
    "states.head()"
   ]
  },
  {
   "cell_type": "code",
   "execution_count": 9,
   "id": "3007a9ee-aaa9-4a40-86af-e11827aff5af",
   "metadata": {},
   "outputs": [
    {
     "data": {
      "text/plain": [
       "shapely.geometry.polygon.Polygon"
      ]
     },
     "execution_count": 9,
     "metadata": {},
     "output_type": "execute_result"
    }
   ],
   "source": [
    "type(states['geometry'][0])"
   ]
  },
  {
   "cell_type": "markdown",
   "id": "f44d7490",
   "metadata": {},
   "source": [
    "## The `geometry` Column Explained\n",
    "Every row in a GeoDataFrame has a geometry; each entry in the `geometry` column contains a shape object.\n",
    "\n",
    "- Common geometry types:\n",
    "  - **Point** – locations like cities, restaurants, or power plants\n",
    "  - **LineString** – linear features like roads and rivers\n",
    "  - **Polygon** – areas such as states, buildings, or parks\n",
    "\n",
    "In our dataset, it’s a **polygon** representing each state.\n"
   ]
  },
  {
   "cell_type": "markdown",
   "id": "4953d9c0",
   "metadata": {},
   "source": [
    "## Visualizing the Data\n",
    "To see the geometry in action, you can directly plot the GeoDataFrame. This is one of the most exciting parts—visual confirmation!"
   ]
  },
  {
   "cell_type": "code",
   "execution_count": 10,
   "id": "9a91bf2a",
   "metadata": {},
   "outputs": [
    {
     "data": {
      "text/plain": [
       "<Axes: >"
      ]
     },
     "execution_count": 10,
     "metadata": {},
     "output_type": "execute_result"
    },
    {
     "data": {
      "image/png": "[encoded data removed]",
      "text/plain": [
       "<Figure size 640x480 with 1 Axes>"
      ]
     },
     "metadata": {},
     "output_type": "display_data"
    }
   ],
   "source": [
    "states.plot()"
   ]
  },
  {
   "cell_type": "markdown",
   "id": "201996bb",
   "metadata": {},
   "source": [
    "This will display a map of the continental United States. It’s a simple way to check that your spatial data loaded correctly."
   ]
  },
  {
   "cell_type": "markdown",
   "id": "515be08c",
   "metadata": {},
   "source": [
    "## Reminder: A Geometry Column ≠ GeoDataFrame\n",
    "You **can’t** create a GeoDataFrame just by adding a column called `geometry` to a regular DataFrame. GeoDataFrames are special objects created with GeoPandas. You must use GeoPandas to convert or construct them properly."
   ]
  },
  {
   "cell_type": "markdown",
   "id": "789bc3ff",
   "metadata": {},
   "source": [
    "## Filtering GeoDataFrames\n",
    "Just like with Pandas, you can filter your GeoDataFrame by any attribute. Let’s filter by population."
   ]
  },
  {
   "cell_type": "code",
   "execution_count": null,
   "id": "13acc50d",
   "metadata": {},
   "outputs": [],
   "source": [
    "# States with population > 10 million\n",
    "high_pop = states[states['population'] > 10_000_000]\n",
    "high_pop"
   ]
  },
  {
   "cell_type": "code",
   "execution_count": null,
   "id": "adc45579",
   "metadata": {},
   "outputs": [],
   "source": [
    "# Plot only the filtered high population states\n",
    "high_pop.plot()"
   ]
  },
  {
   "cell_type": "markdown",
   "id": "24b9bc44",
   "metadata": {},
   "source": [
    "## Why Use GeoDataFrames?\n",
    "In addition to Pandas-like capabilities (e.g. `.head()`, filtering), GeoDataFrames can:\n",
    "- Be projected into different coordinate systems\n",
    "- Perform spatial joins\n",
    "- Buffer, intersect, and merge shapes\n",
    "- Plot maps with automatic scaling and coordinate awareness"
   ]
  },
  {
   "cell_type": "markdown",
   "id": "907c89a0",
   "metadata": {},
   "source": [
    "# Summary\n",
    "- GeoDataFrames are DataFrames with a `geometry` column.\n",
    "- The geometry can be polygons, points, or lines.\n",
    "- Use `.plot()` to create visual maps.\n",
    "- Use all regular DataFrame functions + powerful geospatial ones.\n",
    "\n",
    "🎯 You’re now ready to explore spatial data with ease using GeoPandas!"
   ]
  },
  {
   "cell_type": "code",
   "execution_count": null,
   "id": "3871fecf-4ad6-4dac-9a2e-2d8f94aecaf4",
   "metadata": {},
   "outputs": [],
   "source": []
  }
 ],
 "metadata": {
  "kernelspec": {
   "display_name": "Python 3 (ipykernel)",
   "language": "python",
   "name": "python3"
  },
  "language_info": {
   "codemirror_mode": {
    "name": "ipython",
    "version": 3
   },
   "file_extension": ".py",
   "mimetype": "text/x-python",
   "name": "python",
   "nbconvert_exporter": "python",
   "pygments_lexer": "ipython3",
   "version": "3.12.2"
  }
 },
 "nbformat": 4,
 "nbformat_minor": 5
}
