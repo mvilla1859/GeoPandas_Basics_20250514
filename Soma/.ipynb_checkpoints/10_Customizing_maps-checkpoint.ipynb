{
 "cells": [
  {
   "cell_type": "markdown",
   "id": "7e9c1345",
   "metadata": {},
   "source": [
    "# Customizing Map Styles in GeoPandas (Detailed Guide)\n",
    "This notebook explores how to improve the visual appearance of your maps using GeoPandas. From size and color to marker customization and zooming, you'll learn how to make your maps both readable and beautiful."
   ]
  },
  {
   "cell_type": "markdown",
   "id": "62d7b3f5",
   "metadata": {},
   "source": [
    "## Why Customize Maps?\n",
    "The default `.plot()` in GeoPandas creates quick but unattractive maps. While this is useful for basic exploration, professional-quality visuals require customization.\n",
    "\n",
    "Fortunately, GeoPandas plots are based on **Matplotlib**, so all its tools are available."
   ]
  },
  {
   "cell_type": "markdown",
   "id": "907c9d65",
   "metadata": {},
   "source": [
    "## Two Customization Methods\n",
    "1. **Pass parameters to `.plot()`**\n",
    "2. **Work directly with the Matplotlib `ax` object**"
   ]
  },
  {
   "cell_type": "markdown",
   "id": "8df631ef",
   "metadata": {},
   "source": [
    "## Setting Map Size with `figsize`\n",
    "Use `figsize=(width, height)` to control the plot dimensions."
   ]
  },
  {
   "cell_type": "code",
   "execution_count": null,
   "id": "d8dd5901-1e3d-44fc-ad08-c1d93699adc6",
   "metadata": {},
   "outputs": [],
   "source": [
    "ax = states.plot(figsize=(20, 20))\n",
    "ax"
   ]
  },
  {
   "cell_type": "markdown",
   "id": "01b50685",
   "metadata": {},
   "source": [
    "## Hiding the Axes\n",
    "To remove the frame and axis labels,  store the plot in an `ax` variable and call `ax.set_axis_off()`."
   ]
  },
  {
   "cell_type": "code",
   "execution_count": null,
   "id": "4f18cc8e",
   "metadata": {},
   "outputs": [],
   "source": [
    "ax = states.plot(figsize=(20, 20))\n",
    "ax.axis(\"off\")"
   ]
  },
  {
   "cell_type": "markdown",
   "id": "6c87c8db",
   "metadata": {},
   "source": [
    "## Adjusting Shape Colors and Outlines\n",
    "- `color` sets the fill color\n",
    "- `edgecolor` sets the border color"
   ]
  },
  {
   "cell_type": "code",
   "execution_count": null,
   "id": "f24e599b",
   "metadata": {},
   "outputs": [],
   "source": [
    "ax = states.plot(figsize=(20, 20), color='gray', edgecolor='white')\n",
    "ax.axis(\"off\")"
   ]
  },
  {
   "cell_type": "markdown",
   "id": "603675b7",
   "metadata": {},
   "source": [
    "## Using Hexadecimal Colors\n",
    "Hex colors give you finer control. Example:\n",
    "- Gray: `#CCCCCC`\n",
    "- Red: `#FF0000`"
   ]
  },
  {
   "cell_type": "code",
   "execution_count": null,
   "id": "0fa4194f",
   "metadata": {},
   "outputs": [],
   "source": [
    "ax = states.plot(figsize=(20, 20), color='CCCCCC', edgecolor='FF0000')\n",
    "ax.axis(\"off\")"
   ]
  },
  {
   "cell_type": "markdown",
   "id": "6e2318ef",
   "metadata": {},
   "source": [
    "## Changing Border Thickness\n",
    "Use `linewidth` to change outline thickness."
   ]
  },
  {
   "cell_type": "code",
   "execution_count": null,
   "id": "2c487168-d1d1-49fc-adf6-d2b4ae33a24f",
   "metadata": {},
   "outputs": [],
   "source": [
    "ax = states.plot(figsize=(20, 20), color='CCCCCC', edgecolor='FF0000', linewidth=0.5)\n",
    "ax.axis(\"off\")"
   ]
  },
  {
   "cell_type": "markdown",
   "id": "939d9ebc",
   "metadata": {},
   "source": [
    "## Plotting Markers\n",
    "To plot points like power plants or cities, use a GeoDataFrame of point geometries."
   ]
  },
  {
   "cell_type": "code",
   "execution_count": null,
   "id": "788ae603-7750-4d25-bfb5-9d58d36efa36",
   "metadata": {},
   "outputs": [],
   "source": [
    "powerplants = gpd.read_file(\"powerplants/powerplants.shp\")\n",
    "powerplants.head()"
   ]
  },
  {
   "cell_type": "code",
   "execution_count": null,
   "id": "baf0abaf-9a4b-4218-a006-4e1cabf533a3",
   "metadata": {},
   "outputs": [],
   "source": [
    "ax = power_plants.plot()\n",
    "ax.axis(\"off\")"
   ]
  },
  {
   "cell_type": "markdown",
   "id": "81e06777-c62f-4211-89d2-6c95dc09290b",
   "metadata": {},
   "source": [
    "To plot points like power plants or cities, use a GeoDataFrame of point geometries. You can customize markers with:\n",
    "- `color`\n",
    "- `markeredgecolor`\n",
    "- `markeredgewidth`\n",
    "- `markersize`\n",
    "- `alpha` (transparency)"
   ]
  },
  {
   "cell_type": "code",
   "execution_count": null,
   "id": "22eb0e01",
   "metadata": {},
   "outputs": [],
   "source": [
    "ax = power_plants.plot(figsize=(20, 20), color='green', markeredgewidth=0, markersize=5, alpha=0.5,)\n",
    "ax.axis(\"off\")"
   ]
  },
  {
   "cell_type": "markdown",
   "id": "477c299b",
   "metadata": {},
   "source": [
    "To avoid overpowering the fill color with thick outlines, either reduce or remove marker edges."
   ]
  },
  {
   "cell_type": "markdown",
   "id": "f7c0bf60",
   "metadata": {},
   "source": [
    "## Zooming into a Region\n",
    "Use `ax.set_xlim()` and `ax.set_ylim()` to zoom into part of the map."
   ]
  },
  {
   "cell_type": "code",
   "execution_count": null,
   "id": "07279934",
   "metadata": {},
   "outputs": [],
   "source": [
    "ax = power_plants.plot(figsize=(20, 20), color='green', markeredgewidth=0, markersize=5, alpha=0.5,)\n",
    "ax.axis(\"off\")\n",
    "ax.set_xlim([-130, -60])  # Approximate longitude bounds for continental US\n",
    "ax.set_ylim([20, 50])     # Approximate latitude bounds"
   ]
  },
  {
   "cell_type": "markdown",
   "id": "8398e2c7",
   "metadata": {},
   "source": [
    "## Summary of Customizations\n",
    "You now know how to:\n",
    "- Resize your map using `figsize`\n",
    "- Remove axis ticks and borders\n",
    "- Style polygons with `color`, `edgecolor`, and `linewidth`\n",
    "- Style markers with `markersize`, `markeredgecolor`, `alpha`\n",
    "- Zoom into regions with `ax.set_xlim()` and `ax.set_ylim()`\n",
    "\n",
    "🎨 These tools will help you design readable and attractive maps for both exploration and presentation."
   ]
  }
 ],
 "metadata": {
  "kernelspec": {
   "display_name": "Python 3 (ipykernel)",
   "language": "python",
   "name": "python3"
  },
  "language_info": {
   "codemirror_mode": {
    "name": "ipython",
    "version": 3
   },
   "file_extension": ".py",
   "mimetype": "text/x-python",
   "name": "python",
   "nbconvert_exporter": "python",
   "pygments_lexer": "ipython3",
   "version": "3.12.2"
  }
 },
 "nbformat": 4,
 "nbformat_minor": 5
}
