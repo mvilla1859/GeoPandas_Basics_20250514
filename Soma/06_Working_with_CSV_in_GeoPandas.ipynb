{
 "cells": [
  {
   "cell_type": "markdown",
   "id": "fdcf3c88",
   "metadata": {},
   "source": [
    "# 📓 Working with CSV Files in GeoPandas\n",
    "Converting a CSV file with latitude and longitude into a GeoDataFrame using GeoPandas involves a few key steps. This notebook walks through the process, explaining each part in detail."
   ]
  },
  {
   "cell_type": "markdown",
   "id": "b44768c3",
   "metadata": {},
   "source": [
    "## Step 1: Import Required Libraries\n",
    "First, we import Pandas for handling data, GeoPandas for geospatial analysis, and `Point` from Shapely to create geometry from coordinates."
   ]
  },
  {
   "cell_type": "code",
   "execution_count": null,
   "id": "dce14c96-1971-4943-8272-f6433a152b21",
   "metadata": {},
   "outputs": [],
   "source": [
    "import pandas as pd\n",
    "import geopandas as gpd\n",
    "from shapely.geometry import Point\n",
    "%matplotlib inline"
   ]
  },
  {
   "cell_type": "markdown",
   "id": "bff66bb2-9de2-46f9-98ac-9a64eac1154e",
   "metadata": {},
   "source": [
    "The last line is called \"Jupyter magic\". When a command starts with a `%` sign, it is a Jupyter command, not a Python command. They tell Jupyter how to behave. This particular one lets you see maps and graphs inside of your notebook, instead  of having to process them separately."
   ]
  },
  {
   "cell_type": "markdown",
   "id": "b088a147",
   "metadata": {},
   "source": [
    "## Step 2: Read the CSV File\n",
    "GeoPandas cannot directly read CSV files using `gpd.read_file()`. You must use Pandas to read the CSV, which usually contains rows with attributes and coordinates."
   ]
  },
  {
   "cell_type": "code",
   "execution_count": null,
   "id": "2be33d13",
   "metadata": {},
   "outputs": [],
   "source": [
    "df = pd.read_csv(\"powerplants.csv\")\n",
    "df.head()"
   ]
  },
  {
   "cell_type": "markdown",
   "id": "2a08d135",
   "metadata": {},
   "source": [
    "## Step 3: Create Geometry with Shapely Points\n",
    "Shapely's `Point` takes longitude and latitude and returns a geometry object. Remember: **Longitude comes first**, then **Latitude**. If you get it backwards, your points may appear in the wrong place on the map."
   ]
  },
  {
   "cell_type": "code",
   "execution_count": null,
   "id": "16f12aea",
   "metadata": {},
   "outputs": [],
   "source": [
    "# Convert each row to a Point geometry\n",
    "# Make sure your column names match your CSV file\n",
    "points = df.apply(lambda row: Point(row[\"longitude\"], row[\"latitude\"]), axis=1)"
   ]
  },
  {
   "cell_type": "markdown",
   "id": "7b688b21",
   "metadata": {},
   "source": [
    "⚠️ By default, `df.apply()` works column-wise. You need to set `axis=1` to apply the function row-by-row."
   ]
  },
  {
   "cell_type": "markdown",
   "id": "91b3f358",
   "metadata": {},
   "source": [
    "## Step 4: Construct a GeoDataFrame\n",
    "You cannot simply add a geometry column to a Pandas DataFrame and expect it to behave like a GeoDataFrame. You need to explicitly construct a new GeoDataFrame with both the original data and the geometry."
   ]
  },
  {
   "cell_type": "code",
   "execution_count": null,
   "id": "2c403df6",
   "metadata": {},
   "outputs": [],
   "source": [
    "powerplants = gpd.GeoDataFrame(df, geometry=points)"
   ]
  },
  {
   "cell_type": "markdown",
   "id": "eb335674",
   "metadata": {},
   "source": [
    "## Step 5: Set the Coordinate Reference System (CRS)\n",
    "To tell GeoPandas that your coordinates are latitude and longitude, set the CRS to `'EPSG:4326'`, which is the standard for geographic coordinates."
   ]
  },
  {
   "cell_type": "code",
   "execution_count": null,
   "id": "3d016e60",
   "metadata": {},
   "outputs": [],
   "source": [
    "powerplants.crs = \"EPSG:4326\""
   ]
  },
  {
   "cell_type": "markdown",
   "id": "f9e84aea",
   "metadata": {},
   "source": [
    "## Step 6: Explore and Visualize\n",
    "You can inspect the data and quickly plot it using built-in GeoPandas methods."
   ]
  },
  {
   "cell_type": "code",
   "execution_count": null,
   "id": "cfc757d1",
   "metadata": {},
   "outputs": [],
   "source": [
    "powerplants.head()"
   ]
  },
  {
   "cell_type": "code",
   "execution_count": null,
   "id": "26ae7958",
   "metadata": {},
   "outputs": [],
   "source": [
    "powerplants.plot()"
   ]
  },
  {
   "cell_type": "markdown",
   "id": "2d97d447",
   "metadata": {},
   "source": [
    "## ⚠️ Troubleshooting Tips\n",
    "- **Column Names**: Make sure `longitude` and `latitude` match the exact column names in your CSV.\n",
    "- If your coordinates are labeled differently (e.g., `lon`, `lat`, `x`, `y`), update the lambda function accordingly.\n",
    "- Remember that GeoPandas expects geometry in `(longitude, latitude)` order.\n",
    "- Always set the CRS to `'EPSG:4326'` after creating the GeoDataFrame."
   ]
  },
  {
   "cell_type": "markdown",
   "id": "0736f4d6",
   "metadata": {},
   "source": [
    "## ✅ Summary\n",
    "1. Read the CSV with Pandas.\n",
    "2. Convert coordinates to Shapely `Point` objects.\n",
    "3. Create a new GeoDataFrame with geometry.\n",
    "4. Set the CRS to `'EPSG:4326'`.\n",
    "\n",
    "These steps will work for any CSV file with latitude and longitude. Just update the file name and column references."
   ]
  }
 ],
 "metadata": {
  "kernelspec": {
   "display_name": "Python 3 (ipykernel)",
   "language": "python",
   "name": "python3"
  },
  "language_info": {
   "codemirror_mode": {
    "name": "ipython",
    "version": 3
   },
   "file_extension": ".py",
   "mimetype": "text/x-python",
   "name": "python",
   "nbconvert_exporter": "python",
   "pygments_lexer": "ipython3",
   "version": "3.12.2"
  }
 },
 "nbformat": 4,
 "nbformat_minor": 5
}
