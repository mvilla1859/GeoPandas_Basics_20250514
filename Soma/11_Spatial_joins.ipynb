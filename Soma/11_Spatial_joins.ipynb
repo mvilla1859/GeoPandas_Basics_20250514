{
 "cells": [
  {
   "cell_type": "markdown",
   "id": "070516d0",
   "metadata": {},
   "source": [
    "# Performing Spatial Joins in GeoPandas\n",
    "This notebook covers how to use spatial joins in GeoPandas to combine datasets based on geographic relationships rather than matching columns."
   ]
  },
  {
   "cell_type": "markdown",
   "id": "0a845a8e",
   "metadata": {},
   "source": [
    "## What Is a Spatial Join?\n",
    "In pandas, a **column join** combines two datasets based on a shared column (e.g., zip code).\n",
    "\n",
    "A GeoPandas **spatial join**, by contrast, combines datasets based on their **geographic relationship** (e.g., points within polygons)."
   ]
  },
  {
   "cell_type": "markdown",
   "id": "21f5b4b0",
   "metadata": {},
   "source": [
    "### Example Use Cases\n",
    "- Join restaurants (points) with neighborhoods (polygons)\n",
    "- Match roads (lines) to cities (polygons)\n",
    "- Combine pollution sensors (points) with state boundaries"
   ]
  },
  {
   "cell_type": "markdown",
   "id": "881d77f7",
   "metadata": {},
   "source": [
    "## Setting Up Our Data\n",
    "Let's assume we have two GeoDataFrames:\n",
    "- `states`: U.S. states (polygons)\n",
    "- `plants`: Power plants (points)"
   ]
  },
  {
   "cell_type": "code",
   "execution_count": null,
   "id": "ea63e076-3e1e-4dcd-9c56-739570e381e1",
   "metadata": {},
   "outputs": [],
   "source": [
    "import geopandas as gpd\n",
    "\n",
    "# Sample loading (replace with actual paths)\n",
    "states = gpd.read_file(\"path/to/states.shp\")\n",
    "plants = gpd.read_file(\"path/to/power_plants.shp\")"
   ]
  },
  {
   "cell_type": "markdown",
   "id": "7025bcb0",
   "metadata": {},
   "source": [
    "## Coordinate Reference Systems (CRS) Must Match\n",
    "Before performing a spatial join, ensure both GeoDataFrames use the same CRS."
   ]
  },
  {
   "cell_type": "code",
   "execution_count": null,
   "id": "43b343b7",
   "metadata": {},
   "outputs": [],
   "source": [
    "print(states.crs)\n",
    "print(plants.crs)"
   ]
  },
  {
   "cell_type": "markdown",
   "id": "063ac044",
   "metadata": {},
   "source": [
    "It doesn't really matter which CRS you choose, but they must be the same. But if they don't match, the results will be meaningless. \n",
    "\n",
    "To convert one to the other's CRS, use `.to_crs()`. "
   ]
  },
  {
   "cell_type": "code",
   "execution_count": null,
   "id": "66205564",
   "metadata": {},
   "outputs": [],
   "source": [
    "states.to_crs(plants.crs, inplace=True)"
   ]
  },
  {
   "cell_type": "markdown",
   "id": "3124768d",
   "metadata": {},
   "source": [
    "## Performing the Spatial Join\n",
    "Now that the CRSs match, we can join the data. We want to find which state each power plant is in."
   ]
  },
  {
   "cell_type": "code",
   "execution_count": null,
   "id": "539ff7c2",
   "metadata": {},
   "outputs": [],
   "source": [
    "joined = gpd.sjoin(plants, states, how=\"inner\", op=\"within\")"
   ]
  },
  {
   "cell_type": "markdown",
   "id": "07145c7c",
   "metadata": {},
   "source": [
    "### Join Parameters Explained:\n",
    "- `plants`: The GeoDataFrame whose geometry (points) we keep\n",
    "- `states`: The GeoDataFrame we are joining to (polygons)\n",
    "- `how='inner'`: Keeps only points that fall within a polygon\n",
    "- `op='within'`: Tests whether each point is inside a polygon"
   ]
  },
  {
   "cell_type": "code",
   "execution_count": null,
   "id": "7fdf9acf",
   "metadata": {},
   "outputs": [],
   "source": [
    "joined.head()"
   ]
  },
  {
   "cell_type": "markdown",
   "id": "9c3db55c",
   "metadata": {},
   "source": [
    "## What Did We Get?\n",
    "The result contains:\n",
    "- All columns from `plants`\n",
    "- All columns from `states`, except for`geometry`, because we kept the `plants` geometry.\n",
    "\n",
    "Example: `megawatts`, `plant`, `source` (from plants) + `name`, `population` (from states)"
   ]
  },
  {
   "cell_type": "markdown",
   "id": "10ed9c76",
   "metadata": {},
   "source": [
    "## Aggregating Results\n",
    "Now that each power plant has state information, we can group and analyze. For example, how many plants does each state have?"
   ]
  },
  {
   "cell_type": "code",
   "execution_count": null,
   "id": "f738365b",
   "metadata": {},
   "outputs": [],
   "source": [
    "joined['name'].value_counts()"
   ]
  },
  {
   "cell_type": "markdown",
   "id": "cc1a4ae0",
   "metadata": {},
   "source": [
    "### Count Coal Plants by State"
   ]
  },
  {
   "cell_type": "code",
   "execution_count": null,
   "id": "ff259a18",
   "metadata": {},
   "outputs": [],
   "source": [
    "coal = joined.loc[joined['source'] == 'coal']\n",
    "coal['name'].value_counts()"
   ]
  },
  {
   "cell_type": "markdown",
   "id": "349a499c",
   "metadata": {},
   "source": [
    "## Summary\n",
    "- Spatial joins let you combine datasets based on geography.\n",
    "- Always match CRS before a join.\n",
    "- Use `predicate='within'` to find points inside polygons.\n",
    "- Choose `how='left'` or `how='inner'` based on whether unmatched records should be kept.\n",
    "- You can now perform powerful analyses like counting points per region."
   ]
  },
  {
   "cell_type": "markdown",
   "id": "a73586c0-642d-40f9-bef9-47b6bef6fd38",
   "metadata": {},
   "source": [
    "# Changing the order of the join\n",
    "Changing the order of datasets in a spatial join affects the result—particularly the geometry column. Depending on the values of the `how` and `op` parameters, changing the order can have effects or no effect at all in the results."
   ]
  },
  {
   "cell_type": "markdown",
   "id": "5619de3c-37fb-4749-9405-091c3f995248",
   "metadata": {},
   "source": [
    "## Join: Power Plants within States (Points First)\n",
    "This keeps power plant geometries and adds columns from the states they fall inside."
   ]
  },
  {
   "cell_type": "code",
   "execution_count": null,
   "id": "dcef47e2-4d21-43f7-937d-4a94a9483d4a",
   "metadata": {},
   "outputs": [],
   "source": [
    "plants_with_states = gpd.sjoin(plants, states, how=\"inner\", op=\"within\")\n",
    "plants_with_states.head()"
   ]
  },
  {
   "cell_type": "markdown",
   "id": "cf5c8de3-b6c9-465b-9c69-d22cf349244b",
   "metadata": {},
   "source": [
    "## Swapping the Join Order: States with Power Plants\n",
    "Now we place `states` first and `plants` second. This will:\n",
    "- Keep the **geometry of states**\n",
    "- Append the **columns from matching plants**\n",
    "\n",
    "In the original example, we were looking for plants that were within states. In this case, we are looking for states that contain plants. To reflect this reversal, we also reverse the operation feature `op` from `within` to `contains`."
   ]
  },
  {
   "cell_type": "code",
   "execution_count": null,
   "id": "195dcf5e-d74b-4fc0-9ecf-5b699ae968b8",
   "metadata": {},
   "outputs": [],
   "source": [
    "states_with_plants = gpd.sjoin(states, plants, how=\"inner\", op=\"contains\")\n",
    "states_with_plants.head()"
   ]
  },
  {
   "cell_type": "markdown",
   "id": "3b3b04d6-b821-422a-aded-6ac4c1f49425",
   "metadata": {},
   "source": [
    "## Comparing Row Counts\n",
    "Let's confirm both joins return the same number of matched rows."
   ]
  },
  {
   "cell_type": "code",
   "execution_count": null,
   "id": "783b0ec5-1885-4bf3-a887-11cb73f39440",
   "metadata": {},
   "outputs": [],
   "source": [
    "print(\"Plants with States (geometry = points):\", plants_with_states.shape)\n",
    "print(\"States with Plants (geometry = polygons):\", states_with_plants.shape)"
   ]
  },
  {
   "cell_type": "markdown",
   "id": "bb233a19-6ac6-4dd2-9ec0-0d29ab57d4fd",
   "metadata": {},
   "source": [
    "## Key Differences\n",
    "| Join Version               | Geometry Type | Column Order                |\n",
    "|---------------------------|----------------|-----------------------------|\n",
    "| `plants_with_states`      | Points         | Plant info, then State info |\n",
    "| `states_with_plants`      | Polygons       | State info, then Plant info |\n",
    "\n",
    "The rows are the same because both joins are **inner joins**, meaning only matched records are kept."
   ]
  },
  {
   "cell_type": "markdown",
   "id": "2cf50b1b-edfc-4bff-8a34-9be1a9267d84",
   "metadata": {},
   "source": [
    "## Geometry Implications\n",
    "In `states_with_plants`, **every row** has the geometry of the state, even if multiple rows refer to different power plants within that state."
   ]
  },
  {
   "cell_type": "markdown",
   "id": "2210ff9e-0d0d-4be0-a184-c617fb228a20",
   "metadata": {},
   "source": [
    "## Counting Power Plants by State (Same Either Way)\n",
    "We can still count how many power plants are in each state using `value_counts()` on the state name."
   ]
  },
  {
   "cell_type": "code",
   "execution_count": null,
   "id": "c4d09fcc-d175-4e1f-83e4-b37351ec1cef",
   "metadata": {},
   "outputs": [],
   "source": [
    "plants_with_states['name'].value_counts()"
   ]
  },
  {
   "cell_type": "markdown",
   "id": "2c58e0b5-dff5-4d93-baef-9c070d953be9",
   "metadata": {},
   "source": [
    "## Summary\n",
    "- Reversing the order in a spatial join changes the **geometry** and **column order**, but not the **rows**.\n",
    "- Use `op='within'` when the first dataset is **contained in** the second.\n",
    "- Use `op='contains'` when the first dataset **contains** the second.\n",
    "- Both methods can support the same kinds of analysis.\n",
    "\n",
    "✅ Whether you start with points or polygons, understanding join direction helps manage geometry and prepare for visualization."
   ]
  },
  {
   "cell_type": "markdown",
   "id": "4bbd4017-eae7-49a4-8298-8ddf7f2e3b2c",
   "metadata": {},
   "source": [
    "# \"inner\" vs \"left\" joins"
   ]
  },
  {
   "cell_type": "markdown",
   "id": "c615daac-210b-4f2c-898b-d9b13280dcf1",
   "metadata": {},
   "source": [
    "## What Does `how` Mean in a Spatial Join?\n",
    "\n",
    "The `how` parameter in `gpd.sjoin()` determines how unmatched rows are handled:\n",
    "- `inner`: Only matched records are retained.\n",
    "- `left`: All rows from the left GeoDataFrame are kept, even if they don’t match anything on the right."
   ]
  },
  {
   "cell_type": "markdown",
   "id": "625c3ac0-f533-46b9-97f6-efc16268bca0",
   "metadata": {},
   "source": [
    "### `how='inner'` example\n",
    "Match all power plants with states. Drop plants that don't fall inside any state."
   ]
  },
  {
   "cell_type": "code",
   "execution_count": null,
   "id": "f6d78436-aa6f-40c7-bcf1-ceedc96e0c20",
   "metadata": {},
   "outputs": [],
   "source": [
    "inner_join = gpd.sjoin(plants, states, how='inner', predicate='within')\n",
    "print(f\"Number of rows (inner join): {len(inner_join)}\")"
   ]
  },
  {
   "cell_type": "markdown",
   "id": "ccd9319c-ddde-452d-aa3c-0335f737e408",
   "metadata": {},
   "source": [
    "### `how='left'` example\n",
    "Keep all power plants. If a plant isn't inside any state, its `state` columns will be `NaN`."
   ]
  },
  {
   "cell_type": "code",
   "execution_count": null,
   "id": "ba680999-a0f8-4989-92e3-0d60dbc6dd50",
   "metadata": {},
   "outputs": [],
   "source": [
    "left_join = gpd.sjoin(plants, states, how='left', predicate='within')\n",
    "print(f\"Number of rows (left join): {len(left_join)}\")"
   ]
  },
  {
   "cell_type": "markdown",
   "id": "6aee6592-bccf-45ce-9afb-f913492d88a8",
   "metadata": {},
   "source": [
    "### Finding Unmatched Points in Left Join\n",
    "These are plants that were not matched to any state in the left join."
   ]
  },
  {
   "cell_type": "code",
   "execution_count": null,
   "id": "429dfcc1-8981-41b3-ac06-0fdf7319ed66",
   "metadata": {},
   "outputs": [],
   "source": [
    "left_join[left_join['name'].isna()].head()"
   ]
  },
  {
   "cell_type": "markdown",
   "id": "167aa397-64ee-4cae-a3f9-46a65cf30774",
   "metadata": {},
   "source": [
    "## Case Study: The Winnetka Power Plant\n",
    "The Winnetka plant is a real power plant located on the shoreline of Illinois, and its coordinates fall slightly outside the state polygon."
   ]
  },
  {
   "cell_type": "code",
   "execution_count": null,
   "id": "6f19f073-7756-435e-b578-0b3b0462d402",
   "metadata": {},
   "outputs": [],
   "source": [
    "\"Winnetka\" in left_join['plant'].values"
   ]
  },
  {
   "cell_type": "markdown",
   "id": "6cdc1031-c861-4355-8fd6-6643e7992dfb",
   "metadata": {},
   "source": [
    "\n",
    "### Why Join Type Matters\n",
    "If we had used `inner`, we would have lost the Winnetka plant in our dataset, which could skew any geographic analysis.\n",
    "\n",
    "This shows how **inner joins eliminate unmatched data silently**, while **left joins preserve all original data**, letting you manually inspect or correct it later.\n"
   ]
  },
  {
   "cell_type": "markdown",
   "id": "0dbdf950-18a3-4c56-b585-31a12150eb65",
   "metadata": {},
   "source": [
    "## Revisiting Join Order and Geometry\n",
    "Recall that the first GeoDataFrame you pass to `gpd.sjoin()` determines which geometry is kept in the result."
   ]
  },
  {
   "cell_type": "code",
   "execution_count": null,
   "id": "b36d86df-6e37-492f-8d72-697782feca5b",
   "metadata": {},
   "outputs": [],
   "source": [
    "# Example:\n",
    "# This keeps point geometry (plants)\n",
    "plants_geom = gpd.sjoin(plants, states, how='inner', predicate='within')\n",
    "\n",
    "# This keeps polygon geometry (states)\n",
    "states_geom = gpd.sjoin(states, plants, how='inner', predicate='contains')"
   ]
  },
  {
   "cell_type": "code",
   "execution_count": null,
   "id": "4ce2a3e2-5108-40a9-aa6c-b1460f576c3d",
   "metadata": {},
   "outputs": [],
   "source": [
    "print(\"plants_geom shape:\", plants_geom.shape)\n",
    "print(\"states_geom shape:\", states_geom.shape)"
   ]
  },
  {
   "cell_type": "markdown",
   "id": "46c74819-405d-42a4-a714-ea1cd00cffab",
   "metadata": {},
   "source": [
    "## Now Let’s Try `left` With Polygons First\n",
    "What happens when we put `states` first in a left join? We’ll keep all the states, but not necessarily all the plants."
   ]
  },
  {
   "cell_type": "code",
   "execution_count": null,
   "id": "c191fdb2-0652-4f59-8d52-e863bf56b8ac",
   "metadata": {},
   "outputs": [],
   "source": [
    "left_states = gpd.sjoin(states, plants, how='left', predicate='contains')\n",
    "print(f\"Left join with states first: {len(left_states)} rows\")"
   ]
  },
  {
   "cell_type": "code",
   "execution_count": null,
   "id": "8560fe43-af07-4c9e-a04a-774af487121f",
   "metadata": {},
   "outputs": [],
   "source": [
    "\"Winnetka\" in left_states['plant'].values  # Expected: False"
   ]
  },
  {
   "cell_type": "markdown",
   "id": "6c5978d4-6449-4ff1-8ebb-2f9861cc591f",
   "metadata": {},
   "source": [
    "## Summary Table: Join Type + Order\n",
    "| Order         | `how='inner'`                   | `how='left'`                                    |\n",
    "|---------------|----------------------------------|-------------------------------------------------|\n",
    "| `plants, states` | Keeps matching plants only       | Keeps **all** plants; unmatched get `NaN`         |\n",
    "| `states, plants` | Keeps matching states only       | Keeps **all** states; unmatched plants are lost |\n",
    "\n",
    "- Join type (`how`) decides if unmatched rows are kept\n",
    "- Join direction decides which geometry appears in the result"
   ]
  },
  {
   "cell_type": "markdown",
   "id": "97fd829f-f53d-40bb-a64c-9cb8f5778912",
   "metadata": {},
   "source": [
    "\n",
    "## ✅ Key Takeaways\n",
    "- Use `how='left'` when you want to keep all rows from your main dataset (even if they don't match).\n",
    "- Always check for unmatched records using `.isna()` on join columns.\n",
    "- Use `predicate='within'` when joining points to polygons; use `predicate='contains'` to reverse.\n",
    "- The first dataset in `gpd.sjoin()` determines the geometry kept.\n"
   ]
  }
 ],
 "metadata": {
  "kernelspec": {
   "display_name": "Python 3 (ipykernel)",
   "language": "python",
   "name": "python3"
  },
  "language_info": {
   "codemirror_mode": {
    "name": "ipython",
    "version": 3
   },
   "file_extension": ".py",
   "mimetype": "text/x-python",
   "name": "python",
   "nbconvert_exporter": "python",
   "pygments_lexer": "ipython3",
   "version": "3.12.2"
  }
 },
 "nbformat": 4,
 "nbformat_minor": 5
}
