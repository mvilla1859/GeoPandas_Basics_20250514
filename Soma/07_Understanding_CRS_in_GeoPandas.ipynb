{
 "cells": [
  {
   "cell_type": "markdown",
   "id": "f71de4c5",
   "metadata": {},
   "source": [
    "# Understanding Coordinate Reference Systems (CRS) in Geospatial Data\n",
    "This notebook explains what coordinate reference systems are, why they matter, and how to handle them in geospatial data workflows using GeoPandas."
   ]
  },
  {
   "cell_type": "markdown",
   "id": "32cd7f4a",
   "metadata": {},
   "source": [
    "## What is a Coordinate Reference System (CRS)?\n",
    "A **CRS** is how we describe positions on the Earth's surface. It includes assumptions about:\n",
    "- The **shape** of the Earth (ellipsoid)\n",
    "- The **position** of the model Earth (datum)\n",
    "- The **units** (e.g., degrees, meters)\n",
    "\n",
    "Together, these define how coordinates (like latitude and longitude) are interpreted."
   ]
  },
  {
   "cell_type": "markdown",
   "id": "8c22d3fa",
   "metadata": {},
   "source": [
    "## The Shape of the Earth\n",
    "We often assume the Earth is a sphere, but it's closer to a **potato**—lumpy and irregular. To make mapping work, we simplify it into an **ellipsoid** (a squished sphere).\n",
    "\n",
    "Different ellipsoids exist:\n",
    "- 1866 version (not very accurate)\n",
    "- 1980 and 1984 versions (increasingly accurate)\n",
    "\n",
    "But it's not just the shape that matters—**where** you place the ellipsoid also matters."
   ]
  },
  {
   "cell_type": "markdown",
   "id": "6a241ef5",
   "metadata": {},
   "source": [
    "## Datum: Positioning the Ellipsoid\n",
    "A **datum** defines where the ellipsoid is anchored to the Earth. Different datums suit different regions:\n",
    "- **NAD83** (North American Datum 1983): fits North America\n",
    "- **GDA94** (Geocentric Datum of Australia 1994): fits Australia\n",
    "\n",
    "Datums allow for regional accuracy, but multiple datums can create inconsistency across datasets."
   ]
  },
  {
   "cell_type": "markdown",
   "id": "e6e0ad19",
   "metadata": {},
   "source": [
    "## CRS = Ellipsoid + Datum\n",
    "A **Coordinate Reference System (CRS)** is the combination of:\n",
    "- The **ellipsoid** (Earth's shape model)\n",
    "- The **datum** (position of that ellipsoid)\n",
    "\n",
    "This means that a point with latitude and longitude only makes sense when the CRS is known."
   ]
  },
  {
   "cell_type": "markdown",
   "id": "020298e5",
   "metadata": {},
   "source": [
    "## Local CRSs and Projections\n",
    "When accuracy is needed in small areas, countries and regions often use specialized projections:\n",
    "- **State Plane System** (USA): dozens of CRSs for specific regions\n",
    "- **Swiss Projection**, **Norway CRS**, **Hong Kong Grid** – each tailored for precise local mapping"
   ]
  },
  {
   "cell_type": "markdown",
   "id": "8e8b5ce4",
   "metadata": {},
   "source": [
    "## EPSG Codes\n",
    "To avoid remembering every technical detail, each CRS has a unique identifier called an **EPSG code**.\n",
    "\n",
    "Examples:\n",
    "- `EPSG:4326` → WGS84 (standard latitude/longitude)\n",
    "- `EPSG:4269` → NAD83\n",
    "- `EPSG:5070` → Albers projection for the continental U.S.\n",
    "- `EPSG:4939` → GDA94 for Australia\n",
    "\n",
    "📌 Always remember: it's `epsg`, not `espg`. Spelling it wrong won’t trigger an error—your code will just fail silently."
   ]
  },
  {
   "cell_type": "markdown",
   "id": "32da36b0",
   "metadata": {},
   "source": [
    "## Converting Between CRSs\n",
    "When combining datasets (e.g., locations of restaurants and state boundaries), both must use the same CRS.\n",
    "\n",
    "GeoPandas makes it easy to convert CRS using `.to_crs()`."
   ]
  },
  {
   "cell_type": "code",
   "execution_count": null,
   "id": "e3e93e99",
   "metadata": {},
   "outputs": [],
   "source": [
    "import geopandas as gpd\n",
    "\n",
    "# Load a dataset (already in one CRS)\n",
    "states = gpd.read_file(\"states/States.shp\")\n",
    "\n",
    "# Check current CRS\n",
    "print(states.crs)\n",
    "\n",
    "# Convert to another CRS (e.g., EPSG 4326)\n",
    "states = states.to_crs(epsg=4326)\n",
    "print(states.crs)"
   ]
  },
  {
   "cell_type": "markdown",
   "id": "3a93c021",
   "metadata": {},
   "source": [
    "## Why CRS Consistency Matters\n",
    "If one dataset uses meters and another uses degrees, or their ellipsoids differ, comparisons will be **inaccurate**. Always make sure datasets share the same CRS before spatial analysis (joins, overlays, distance calculations)."
   ]
  },
  {
   "cell_type": "markdown",
   "id": "a7f77d0a",
   "metadata": {},
   "source": [
    "## Summary\n",
    "- The Earth is not a perfect sphere, so we use ellipsoids to approximate it.\n",
    "- A **datum** anchors the ellipsoid to the real Earth.\n",
    "- Together, ellipsoid + datum = **CRS**.\n",
    "- Use **EPSG codes** to refer to CRSs easily.\n",
    "- Always ensure all your datasets use the **same CRS** before combining them.\n",
    "\n",
    "🌍 Embrace the potato-shaped Earth—mastering CRS will make your spatial data analysis accurate and powerful."
   ]
  },
  {
   "cell_type": "code",
   "execution_count": null,
   "id": "33ab84e7-bea8-45a2-af73-21dce6a9a815",
   "metadata": {},
   "outputs": [],
   "source": []
  }
 ],
 "metadata": {
  "kernelspec": {
   "display_name": "Python 3 (ipykernel)",
   "language": "python",
   "name": "python3"
  },
  "language_info": {
   "codemirror_mode": {
    "name": "ipython",
    "version": 3
   },
   "file_extension": ".py",
   "mimetype": "text/x-python",
   "name": "python",
   "nbconvert_exporter": "python",
   "pygments_lexer": "ipython3",
   "version": "3.12.2"
  }
 },
 "nbformat": 4,
 "nbformat_minor": 5
}
