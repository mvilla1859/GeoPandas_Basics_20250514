{
 "cells": [
  {
   "cell_type": "markdown",
   "id": "8995d1a3",
   "metadata": {},
   "source": [
    "# Opening Shapefiles with GeoPandas (Detailed Guide)\n",
    "This notebook gives a step-by-step breakdown of how to open shapefiles using GeoPandas, including explanation of common pitfalls and how GeoPandas handles geospatial data."
   ]
  },
  {
   "cell_type": "markdown",
   "id": "56af0060",
   "metadata": {},
   "source": [
    "## Introduction\n",
    "GeoPandas makes it simple to work with shapefiles. If your system is properly set up, opening a shapefile requires just one line of code. In this guide, we'll break down what that line does and how to avoid common mistakes."
   ]
  },
  {
   "cell_type": "markdown",
   "id": "0538ed5d",
   "metadata": {},
   "source": [
    "## Understanding Your File Structure\n",
    "Imagine we have a folder named `states` that contains the shapefile we want to open. Inside that folder, there are multiple files including `States.shp`, `States.dbf`, `States.prj`, and more. All these files together make up the shapefile."
   ]
  },
  {
   "cell_type": "code",
   "execution_count": null,
   "id": "60bd2894",
   "metadata": {},
   "outputs": [],
   "source": [
    "import geopandas as gpd\n",
    "\n",
    "# Load the shapefile from the 'states' directory\n",
    "states = gpd.read_file(\"states/States.shp\")\n",
    "states.head()"
   ]
  },
  {
   "cell_type": "markdown",
   "id": "21c419c0",
   "metadata": {},
   "source": [
    "## Why `gpd.read_file()`?\n",
    "Unlike Pandas, where you use different functions like `read_csv()` or `read_excel()` depending on the file type, GeoPandas uses a single function: `read_file()`.\n",
    "\n",
    "### This function works for:\n",
    "- `.shp` (shapefiles)\n",
    "- `.geojson` (GeoJSON)\n",
    "- `.json` (geospatial JSON)\n",
    "\n",
    "> 📌 There is **no** `read_shapefile()` function in GeoPandas. Always use `read_file()`."
   ]
  },
  {
   "cell_type": "markdown",
   "id": "c46bea00",
   "metadata": {},
   "source": [
    "## Use GeoPandas, Not Pandas\n",
    "Make sure you're using `gpd.read_file`, not `pd.read_file`.\n",
    "- `pd.read_file` will cause an error—Pandas doesn’t recognize geospatial formats.\n",
    "- `gpd` refers to GeoPandas, which extends Pandas to handle spatial data."
   ]
  },
  {
   "cell_type": "markdown",
   "id": "6f2c8c39",
   "metadata": {},
   "source": [
    "## Unzip Your Files First\n",
    "When you download a shapefile, it's often zipped. Before opening it:\n",
    "1. **Unzip** the archive.\n",
    "2. **Find the `.shp` file** (along with the `.dbf`, `.prj`, `.shx` files, etc.).\n",
    "3. Pass the path to `.shp` into `read_file()`.\n",
    "\n",
    "GeoPandas will automatically read the other needed files."
   ]
  },
  {
   "cell_type": "markdown",
   "id": "af6ad78c",
   "metadata": {},
   "source": [
    "## Summary\n",
    "- Use `gpd.read_file('path/to/file.shp')` to open shapefiles.\n",
    "- Always extract `.zip` archives first.\n",
    "- Only give the `.shp` file to GeoPandas; it will handle the rest.\n",
    "- Don't use Pandas (`pd`) to read geospatial files.\n",
    "\n",
    "📌 One simple line can open complex geographic data—just be sure the file is ready!"
   ]
  }
 ],
 "metadata": {
  "kernelspec": {
   "display_name": "Python 3 (ipykernel)",
   "language": "python",
   "name": "python3"
  },
  "language_info": {
   "codemirror_mode": {
    "name": "ipython",
    "version": 3
   },
   "file_extension": ".py",
   "mimetype": "text/x-python",
   "name": "python",
   "nbconvert_exporter": "python",
   "pygments_lexer": "ipython3",
   "version": "3.12.2"
  }
 },
 "nbformat": 4,
 "nbformat_minor": 5
}
